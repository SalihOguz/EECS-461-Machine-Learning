{
 "cells": [
  {
   "cell_type": "code",
   "execution_count": 105,
   "metadata": {
    "collapsed": true
   },
   "outputs": [],
   "source": [
    "from PIL import Image\n",
    "import os\n",
    "import numpy as np\n",
    "from sklearn.ensemble import RandomForestClassifier\n",
    "import time\n",
    "from sklearn.externals import joblib\n",
    "from sklearn.metrics import accuracy_score\n",
    "from sklearn.decomposition import PCA\n",
    "from sklearn.linear_model import LogisticRegression"
   ]
  },
  {
   "cell_type": "code",
   "execution_count": 127,
   "metadata": {
    "collapsed": true
   },
   "outputs": [],
   "source": [
    "training_path = os.getcwd()+\"\\\\TrainingSet\"\n",
    "direction_encode = {'right': 0, 'left': 1, 'up': 2, 'straight': 3}\n",
    "emotion_encode = {'neutral': 0, 'happy': 1, 'angry': 2, 'sad': 3}\n",
    "\n",
    "y_train_directionfaced = []\n",
    "y_train_emotion = []\n",
    "\n",
    "X_train = []\n",
    "\n",
    "for i in os.listdir(training_path):\n",
    "    try:\n",
    "        X_train.append(np.array(Image.open(training_path+\"\\\\\"+i).convert('L')).flatten())\n",
    "        y_train_directionfaced.append(direction_encode[i.split(\"_\")[1]])\n",
    "        y_train_emotion.append(emotion_encode[i.split(\"_\")[2]])\n",
    "    except:\n",
    "        pass"
   ]
  },
  {
   "cell_type": "code",
   "execution_count": 128,
   "metadata": {
    "collapsed": true
   },
   "outputs": [],
   "source": [
    "test_path = os.getcwd()+\"\\\\TestSet\"\n",
    "y_test_directionfaced = []\n",
    "y_test_emotion = []\n",
    "X_test = []\n",
    "\n",
    "for i in os.listdir(test_path):\n",
    "    try:\n",
    "        X_test.append(np.array(Image.open(test_path+\"\\\\\"+i).convert('L')).flatten())\n",
    "        y_test_directionfaced.append(direction_encode[i.split(\"_\")[1]])\n",
    "        y_test_emotion.append(emotion_encode[i.split(\"_\")[2]])\n",
    "    except:\n",
    "        pass"
   ]
  },
  {
   "cell_type": "code",
   "execution_count": 116,
   "metadata": {},
   "outputs": [
    {
     "data": {
      "text/plain": [
       "['part_a.pkl']"
      ]
     },
     "execution_count": 116,
     "metadata": {},
     "output_type": "execute_result"
    }
   ],
   "source": [
    "t = time.time()\n",
    "# Random Forest Classifier\n",
    "rf_clf = RandomForestClassifier(random_state=0)\n",
    "rf_clf.fit(X_train, y_train_directionfaced)\n",
    "train_t = time.time()-t\n",
    "y_pred = rf_clf.predict(X_test)\n",
    "ac = accuracy_score(y_test_directionfaced, y_pred)\n",
    "lis = [rf_clf, train_t, ac]\n",
    "joblib.dump(lis, 'part_a.pkl')"
   ]
  },
  {
   "cell_type": "code",
   "execution_count": 103,
   "metadata": {},
   "outputs": [
    {
     "data": {
      "text/plain": [
       "['part_b.pkl']"
      ]
     },
     "execution_count": 103,
     "metadata": {},
     "output_type": "execute_result"
    }
   ],
   "source": [
    "pca = PCA(n_components=0.95)\n",
    "X_reduced_train = pca.fit_transform(X_train)\n",
    "X_reduced_test = pca.transform(X_test)\n",
    "\n",
    "t = time.time()\n",
    "# Random Forest Classifier\n",
    "rf_clf = RandomForestClassifier(random_state=0)\n",
    "rf_clf.fit(X_reduced_train, y_train_directionfaced)\n",
    "train_t = time.time()-t\n",
    "y_pred = rf_clf.predict(X_reduced_test)\n",
    "ac = accuracy_score(y_test_directionfaced, y_pred)\n",
    "lis2 = [rf_clf, train_t, ac]\n",
    "joblib.dump(lis2, 'part_b.pkl')"
   ]
  },
  {
   "cell_type": "code",
   "execution_count": 132,
   "metadata": {},
   "outputs": [
    {
     "data": {
      "text/plain": [
       "['part_c.pkl']"
      ]
     },
     "execution_count": 132,
     "metadata": {},
     "output_type": "execute_result"
    }
   ],
   "source": [
    "t = time.time()\n",
    "# Logistic Regression Classifier\n",
    "lr_clf = LogisticRegression(multi_class=\"multinomial\", solver=\"lbfgs\", random_state=0)\n",
    "lr_clf.fit(X_train, y_train_emotion)\n",
    "\n",
    "train_t = time.time()-t\n",
    "\n",
    "y_pred = lr_clf.predict(X_test)\n",
    "ac = accuracy_score(y_test_emotion, y_pred)\n",
    "\n",
    "lis = [lr_clf, train_t, ac]\n",
    "joblib.dump(lis, 'part_c.pkl')"
   ]
  },
  {
   "cell_type": "code",
   "execution_count": 133,
   "metadata": {},
   "outputs": [
    {
     "data": {
      "text/plain": [
       "['part_d.pkl']"
      ]
     },
     "execution_count": 133,
     "metadata": {},
     "output_type": "execute_result"
    }
   ],
   "source": [
    "pca = PCA(n_components=0.95)\n",
    "X_reduced_train = pca.fit_transform(X_train)\n",
    "X_reduced_test = pca.transform(X_test)\n",
    "\n",
    "t = time.time()\n",
    "# Logistic Regression Classifier\n",
    "lr_clf = LogisticRegression(multi_class=\"multinomial\", solver=\"lbfgs\", random_state=0)\n",
    "lr_clf.fit(X_reduced_train, y_train_emotion)\n",
    "\n",
    "train_t = time.time()-t\n",
    "\n",
    "y_pred = lr_clf.predict(X_reduced_test)\n",
    "ac = accuracy_score(y_test_emotion, y_pred)\n",
    "\n",
    "lis2 = [lr_clf, train_t, ac]\n",
    "joblib.dump(lis, 'part_d.pkl')"
   ]
  }
 ],
 "metadata": {
  "kernelspec": {
   "display_name": "Python 3",
   "language": "python",
   "name": "python3"
  },
  "language_info": {
   "codemirror_mode": {
    "name": "ipython",
    "version": 3
   },
   "file_extension": ".py",
   "mimetype": "text/x-python",
   "name": "python",
   "nbconvert_exporter": "python",
   "pygments_lexer": "ipython3",
   "version": "3.6.1"
  }
 },
 "nbformat": 4,
 "nbformat_minor": 2
}
