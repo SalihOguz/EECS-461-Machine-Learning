{
 "cells": [
  {
   "cell_type": "markdown",
   "metadata": {},
   "source": [
    "<h1 style=\"text-align: center;\"><strong>Machine Learning Project Final Report</strong></h1>\n",
    "<h2 style=\"text-align: center;\"><strong>TensorFlow Speech Recognition Challenge</strong></h2>\n",
    "<h3 style=\"text-align: center;\"><strong>Mustafa Salih Oğuz | 213012263</strong></h3>\n",
    "<h3><strong>1. Project Summary</strong></h3>\n",
    "<p>In this project I try to recognize words from short audio files. This is a Kaggle Competition opened by Google Brain. Aim of the competition is to be able to recognize 10 labeled words, silence and unknown words as accurate as possible from thousands of various one second audio files.</p>\n",
    "\n",
    "<p>The way I tried to achieve this by converting .wav auido files into spectrograms and mfc's and then feeding them into machine learning algorithms.</p>\n",
    "\n",
    "<p>I was able to convert .wav audio files into graphs. However, to download spectrogram graphs I needed to plot graphs for all of my training and test set which makes up to 210.000 graphs. My 8 GB RAM was not enough for matplotlib to plot 60.000 traing set graphs, it gave memory error repetatly. So, I had to change my plan. Instead of plotting the graphs I decided to go with matrix representation of the graphs.</p>\n",
    "\n",
    "<p>I used a small amount of my training data to split and create training and test sets. I fed various ML algorithms with that training set but it took too much time and I got a 0.03 accuracy on the small test set with 5 labels. The reason for that was my label matrix. For doing multi-class classification I made a multidimensional y matrix. That gave very poor result.</p>\n",
    "\n",
    "<p>Then I fixed that and prepared a proper one-dimensional y matrix that has numbers from 0 to 11 for every class. That increased the accuracy by tenfold however 0.3 accuracy was not acceptable.</p>\n",
    "\n",
    "<p>After that I started to work on the whole training set by splitting it into training and test set with a 0.2 ratio. I used PCA to reduce dimensions of training data. It made the process much faster and doubled my accuracy to 0.62. The problem with that was very different algorithms and different matrix representations gave exactly the same accuracy, it was a little suspicious because 17 digits after 0 were same. I had to check other metrics. When I checked precision, recall, and f1 scores, they were approximately 0.1 and confusion matrix showed that actually, my accuracy was too low that almost all of the test set classified as \"unknown\". Since 62% of my test set has the label \"unknown\", I got a 0.62 accuracy from all the classifiers. Actually, my prediction was too bad.</p>\n",
    "\n",
    "<p>I had to solve this problem of unbalanced data to get a better result. I used oversampling to make my data more balanced. Indeed, my accuracy hit 0.96 and precision score to 0.9 after oversampling. Afterwards, I decided to work with real test set and see the accuracy on Kaggle. I expected a good result because I had 0.96 accuracy with training set but that was not the case. I got 0.1 accuracy on Kaggle, still, I passed 300 people though. I realized I overfitted my algorithms, especially random forest and extra trees performed this way. I configured my algorithms, scaled the data set further and tried to make a prediction with a less overfitted algorithm Gradient Boosting. It only increased my accuracy to 1.8. I plotted cross validation graph and saw that it actually can be increased to 0.65. I tried to implement early stopping but it took forever because of my computer's relatively weak computational power, so I didn't get the results.</p>\n",
    "\n",
    "<p>In the end, I worked on this project for tens of hours and got a mediocre result. That made me finalize the project here. Therefore, I just briefly tried to implement a neural network but didn't go further and stopped there. Nevertheless, I learned many concepts and practiced machine learning for days. That is why I feels like I greatly benefited from this project.</p>\n",
    "\n",
    "<h3><strong>2. Load Libraries</strong></h3>"
   ]
  },
  {
   "cell_type": "code",
   "execution_count": 23,
   "metadata": {
    "collapsed": true
   },
   "outputs": [],
   "source": [
    "import numpy as np\n",
    "import pandas as pd\n",
    "from scipy.io import wavfile\n",
    "import IPython.display as ipd\n",
    "from scipy import signal\n",
    "import librosa\n",
    "import librosa.display\n",
    "import os\n",
    "from sklearn.model_selection import train_test_split\n",
    "from sklearn.ensemble import RandomForestClassifier\n",
    "from sklearn.ensemble import ExtraTreesClassifier\n",
    "from sklearn.ensemble import VotingClassifier\n",
    "from sklearn.metrics import accuracy_score\n",
    "from sklearn.externals import joblib\n",
    "from sklearn.ensemble import AdaBoostClassifier\n",
    "from sklearn.linear_model import SGDClassifier\n",
    "from sklearn.ensemble import GradientBoostingClassifier\n",
    "from sklearn.svm import LinearSVC\n",
    "from sklearn.decomposition import PCA\n",
    "from sklearn.preprocessing import StandardScaler\n",
    "import time\n",
    "from sklearn.metrics import recall_score, precision_score, f1_score, confusion_matrix\n",
    "import matplotlib.pyplot as plt\n",
    "from imblearn.under_sampling import RandomUnderSampler\n",
    "from imblearn.over_sampling import RandomOverSampler\n",
    "import math"
   ]
  },
  {
   "cell_type": "markdown",
   "metadata": {},
   "source": [
    "<h3><strong>3. Preparing Training Data Matrices</strong></h3>"
   ]
  },
  {
   "cell_type": "code",
   "execution_count": 2,
   "metadata": {
    "collapsed": true
   },
   "outputs": [],
   "source": [
    "def make_mfc(example_rate, example):\n",
    "    \"\"\"returns mfc matrix representation of the wav file\"\"\"\n",
    "    S = librosa.feature.melspectrogram(example, sr=example_rate, n_mels=128)\n",
    "    return librosa.power_to_db(S, ref=np.max)"
   ]
  },
  {
   "cell_type": "code",
   "execution_count": 3,
   "metadata": {
    "collapsed": true
   },
   "outputs": [],
   "source": [
    "def make_spectrogram(example_rate, example):\n",
    "    \"\"\"returns spectrogram matrix representation of the wav file\"\"\"\n",
    "    freqs, times, spec = signal.spectrogram(example, fs=example_rate)\n",
    "    return np.log(spec.T.astype(np.float32)+0.00000000001)"
   ]
  },
  {
   "cell_type": "code",
   "execution_count": 4,
   "metadata": {
    "scrolled": true
   },
   "outputs": [
    {
     "name": "stdout",
     "output_type": "stream",
     "text": [
      "bed\n",
      "bird\n"
     ]
    },
    {
     "name": "stderr",
     "output_type": "stream",
     "text": [
      "C:\\Users\\musta\\Anaconda3\\lib\\site-packages\\sklearn\\decomposition\\pca.py:425: RuntimeWarning:\n",
      "\n",
      "invalid value encountered in true_divide\n",
      "\n"
     ]
    },
    {
     "name": "stdout",
     "output_type": "stream",
     "text": [
      "cat\n",
      "dog\n",
      "down\n",
      "eight\n",
      "five\n",
      "four\n",
      "go\n",
      "happy\n",
      "house\n",
      "left\n",
      "marvin\n",
      "nine\n",
      "no\n",
      "off\n",
      "on\n",
      "one\n",
      "right\n",
      "seven\n",
      "sheila\n",
      "six\n",
      "stop\n",
      "three\n",
      "tree\n",
      "two\n",
      "up\n",
      "wow\n",
      "yes\n",
      "zero\n",
      "_background_noise_\n"
     ]
    },
    {
     "name": "stderr",
     "output_type": "stream",
     "text": [
      "C:\\Users\\musta\\Anaconda3\\lib\\site-packages\\scipy\\io\\wavfile.py:273: WavFileWarning:\n",
      "\n",
      "Chunk (non-data) not understood, skipping it.\n",
      "\n"
     ]
    },
    {
     "name": "stdout",
     "output_type": "stream",
     "text": [
      "1008.774069070816\n"
     ]
    }
   ],
   "source": [
    "# Filling matrix lists with training dataset\n",
    "t = time.time()\n",
    "path_start = os.getcwd()+\"\\\\train\\\\audio\"\n",
    "waveform_matrix = []\n",
    "mfc_matrix = []\n",
    "spectrogram_matrix = []\n",
    "labels = []\n",
    "categories = {\"yes\":0, \"no\":1, \"up\":2, \"down\":3, \"left\":4, \"right\":5, \"on\":6, \"off\":7, \"stop\":8, \"go\":9, \"unknown\":10, \"silence\":11}\n",
    "\n",
    "pca = PCA(n_components=1)\n",
    "\n",
    "for i in os.listdir(os.getcwd()+\"/train/audio\"):\n",
    "    print(i)\n",
    "    for j in os.listdir(os.getcwd()+\"/train/audio/\"+i):\n",
    "        try:       \n",
    "            path = path_start  + \"\\\\\" + i + \"\\\\\" + j\n",
    "            example_rate, example = wavfile.read(path)\n",
    "            if i == \"_background_noise_\": # breaking down long noise audio files to 1 second\n",
    "                for p in range(math.floor(example.shape[0]/example_rate)):\n",
    "                    if (example_rate*(p+2) > example.shape[0]):\n",
    "                        break\n",
    "                    pca = PCA(n_components=1)\n",
    "                    ex = example[example_rate*(p+1):example_rate*(p+2)]\n",
    "                    mfc_matrix.append(pca.fit_transform(make_mfc(example_rate, ex))[:128])\n",
    "                    spectrogram_matrix.append(pca.fit_transform(make_spectrogram(example_rate, ex))[:71])\n",
    "                    labels.append(categories[\"silence\"])\n",
    "            else:\n",
    "                waveform_matrix.append(example[:16000])\n",
    "                mfc_matrix.append(pca.fit_transform(make_mfc(example_rate, example))[:128])\n",
    "                spectrogram_matrix.append(pca.fit_transform(make_spectrogram(example_rate, example))[:71])\n",
    "\n",
    "                if i in categories.keys():\n",
    "                    labels.append(categories[i])\n",
    "                else:\n",
    "                    labels.append(categories[\"unknown\"])\n",
    "        except:\n",
    "            print(\"!!!ERROR!!! \" + i + \"\\\\\" + j)\n",
    "print(time.time() - t)"
   ]
  },
  {
   "cell_type": "code",
   "execution_count": 76,
   "metadata": {},
   "outputs": [
    {
     "data": {
      "text/plain": [
       "['all_training_data.pkl']"
      ]
     },
     "execution_count": 76,
     "metadata": {},
     "output_type": "execute_result"
    }
   ],
   "source": [
    "joblib.dump([waveform_matrix, mfc_matrix, spectrogram_matrix, labels], 'all_training_data.pkl', protocol = 2 )"
   ]
  },
  {
   "cell_type": "code",
   "execution_count": 3,
   "metadata": {
    "collapsed": true
   },
   "outputs": [],
   "source": [
    "waveform_matrix, mfc_matrix, spectrogram_matrix, labels = joblib.load(\"all_training_data.pkl\")"
   ]
  },
  {
   "cell_type": "markdown",
   "metadata": {},
   "source": [
    "<h3><strong>4. Classification on Training Data</strong></h3>"
   ]
  },
  {
   "cell_type": "code",
   "execution_count": 18,
   "metadata": {
    "collapsed": true
   },
   "outputs": [],
   "source": [
    "def PrepareSets(df_local):\n",
    "    \"\"\"splits given dataframe into test and training sets and returns them\"\"\"\n",
    "    X = df_local[:, :]\n",
    "\n",
    "    y = np.array(labels)\n",
    "    ros = RandomOverSampler(random_state=0)\n",
    "    X, y = ros.fit_sample(X, y)\n",
    "    \n",
    "    X_train, X_test, y_train, y_test = train_test_split(X, y, test_size=0.2, random_state=0)\n",
    "\n",
    "    pca = PCA(n_components=1)\n",
    "    X_train = pca.fit_transform(X_train)\n",
    "    X_test = pca.transform(X_test)\n",
    "    return X_train, X_test, y_train, y_test"
   ]
  },
  {
   "cell_type": "code",
   "execution_count": 30,
   "metadata": {
    "collapsed": true
   },
   "outputs": [],
   "source": [
    "def TrainCLF(X_train, X_test, y_train, y_test):\n",
    "    \"\"\"makes predicitons with given training and test set on various classifiers.\n",
    "    returns accuracy, recall, precision, f1 scores and confusion matrix for all classifiers used.\"\"\"\n",
    "    # Random Forest Classifier\n",
    "    rf_clf = RandomForestClassifier(random_state=0)\n",
    "    rf_clf.fit(X_train, y_train)\n",
    "    \n",
    "    # Extra Trees Classifier\n",
    "    et_clf = ExtraTreesClassifier(random_state=0)\n",
    "    et_clf.fit(X_train, y_train)\n",
    "\n",
    "    # Gradient Boosting Classifier\n",
    "    gb_clf = GradientBoostingClassifier(n_estimators=100, learning_rate=1.0, max_depth=1, random_state=0)\n",
    "    gb_clf.fit(X_train, y_train)\n",
    "\n",
    "    # AdaBoost Classifier\n",
    "    ab_clf = AdaBoostClassifier(n_estimators=100)\n",
    "    ab_clf.fit(X_train, y_train)\n",
    "\n",
    "    # -------------------------\n",
    "\n",
    "    # Random Forest Classifier\n",
    "    rf_clf1 = RandomForestClassifier(random_state=0)\n",
    "\n",
    "    # Extra Trees Classifier\n",
    "    et_clf1 = ExtraTreesClassifier(random_state=0)\n",
    "\n",
    "    # Gradient Boosting Classifier\n",
    "    gb_clf1 = GradientBoostingClassifier(n_estimators=100, learning_rate=1.0, max_depth=1, random_state=0)\n",
    "\n",
    "    # AdaBoost Classifier\n",
    "    ab_clf1 = AdaBoostClassifier(n_estimators=100)\n",
    "\n",
    "    # Soft Ensemble Classifier\n",
    "    voting_clf = VotingClassifier(estimators=[('rf', rf_clf1), ('et', et_clf1)], voting='soft')\n",
    "    voting_clf.fit(X_train, y_train)\n",
    "\n",
    "    # Soft Ensemble Classifier 2\n",
    "    voting_clf2 = VotingClassifier(estimators=[('rf', rf_clf1), ('et', et_clf1), ('gb', gb_clf1), ('ab', ab_clf1)], voting='soft')\n",
    "    voting_clf2.fit(X_train, y_train)\n",
    "\n",
    "    # Hard Ensemble Classifier\n",
    "    voting_clf3 = VotingClassifier(estimators=[('rf', rf_clf1), ('et', et_clf1)], voting='hard')\n",
    "    voting_clf3.fit(X_train, y_train)\n",
    "\n",
    "    # -------------------------\n",
    "    \n",
    "    # Linear SVC\n",
    "    lsvc_clf = LinearSVC(random_state=0)\n",
    "    lsvc_clf.fit(X_train, y_train)\n",
    "\n",
    "    # Stochastic Gradient Descent Classifier\n",
    "    sgd_clf = SGDClassifier(max_iter = 1000)\n",
    "    sgd_clf.fit(X_train, y_train)\n",
    "    \n",
    "    # --------------------------\n",
    "    \n",
    "    results = {}\n",
    "    for clf in (rf_clf, et_clf, gb_clf, ab_clf, voting_clf, voting_clf2, voting_clf3):\n",
    "        y_pred = clf.predict(X_test)\n",
    "        results.setdefault(clf.__class__.__name__, {\"accuracy_score\":[], \"confusion_matrix\":[], \"recall_score\":[], \"precision_score\":[], \"f1_score\":[]})\n",
    "        results[clf.__class__.__name__][\"accuracy_score\"].append(accuracy_score(y_test, y_pred))\n",
    "        results[clf.__class__.__name__][\"confusion_matrix\"].append(confusion_matrix(y_test, y_pred))\n",
    "        results[clf.__class__.__name__][\"recall_score\"].append(recall_score(y_test, y_pred, average='macro'))\n",
    "        results[clf.__class__.__name__][\"precision_score\"].append(precision_score(y_test, y_pred, average='macro'))\n",
    "        results[clf.__class__.__name__][\"f1_score\"].append(f1_score(y_test, y_pred, average='macro'))\n",
    "        \n",
    "    for clf in (lsvc_clf, sgd_clf):\n",
    "        y_pred = clf.predict(X_test)        \n",
    "        results.setdefault(clf.__class__.__name__, {\"accuracy_score\":[], \"confusion_matrix\":[], \"recall_score\":[], \"precision_score\":[], \"f1_score\":[]})\n",
    "        results[clf.__class__.__name__][\"accuracy_score\"].append(clf.score(X_test, y_test))\n",
    "        results[clf.__class__.__name__][\"confusion_matrix\"].append(confusion_matrix(y_test, y_pred))\n",
    "        results[clf.__class__.__name__][\"recall_score\"].append(recall_score(y_test, y_pred, average='macro'))\n",
    "        results[clf.__class__.__name__][\"precision_score\"].append(precision_score(y_test, y_pred, average='macro'))\n",
    "        results[clf.__class__.__name__][\"f1_score\"].append(f1_score(y_test, y_pred, average='macro'))\n",
    "        \n",
    "    return results"
   ]
  },
  {
   "cell_type": "code",
   "execution_count": 28,
   "metadata": {
    "collapsed": true
   },
   "outputs": [],
   "source": [
    "def ShowResult(matrix):\n",
    "    \"\"\"takes matrix representation of the data, preprocesses it and returns results\"\"\"\n",
    "    df1 = pd.DataFrame(matrix)\n",
    "    df1 = df1.fillna(df1.mean())\n",
    "\n",
    "    scaler = StandardScaler()\n",
    "    df1 = scaler.fit_transform(df1)\n",
    "\n",
    "    X_train, X_test, y_train, y_test = PrepareSets(df1)\n",
    "   \n",
    "    return TrainCLF(X_train, X_test, y_train, y_test)"
   ]
  },
  {
   "cell_type": "markdown",
   "metadata": {},
   "source": [
    "<h3>Testing Using MFC Matrix</h3>\n",
    "<p>Result: Soft Voting Classifier Gave 0.96270 accuracy</p>"
   ]
  },
  {
   "cell_type": "code",
   "execution_count": 32,
   "metadata": {
    "scrolled": true
   },
   "outputs": [
    {
     "name": "stderr",
     "output_type": "stream",
     "text": [
      "C:\\Users\\musta\\Anaconda3\\lib\\site-packages\\sklearn\\linear_model\\stochastic_gradient.py:128: FutureWarning:\n",
      "\n",
      "max_iter and tol parameters have been added in <class 'sklearn.linear_model.stochastic_gradient.SGDClassifier'> in 0.19. If both are left unset, they default to max_iter=5 and tol=None. If tol is not None, max_iter defaults to max_iter=1000. From 0.21, default max_iter will be 1000, and default tol will be 1e-3.\n",
      "\n",
      "C:\\Users\\musta\\Anaconda3\\lib\\site-packages\\sklearn\\metrics\\classification.py:1135: UndefinedMetricWarning:\n",
      "\n",
      "Precision is ill-defined and being set to 0.0 in labels with no predicted samples.\n",
      "\n",
      "C:\\Users\\musta\\Anaconda3\\lib\\site-packages\\sklearn\\metrics\\classification.py:1135: UndefinedMetricWarning:\n",
      "\n",
      "F-score is ill-defined and being set to 0.0 in labels with no predicted samples.\n",
      "\n"
     ]
    },
    {
     "name": "stdout",
     "output_type": "stream",
     "text": [
      "{'RandomForestClassifier': {'accuracy_score': [0.95848478079883037], 'confusion_matrix': [array([[8211,    4,    4,    0,    0,    3,    1,    0,    1,    0,    0,\n",
      "           0],\n",
      "       [   0, 8186,    0,    0,    0,    6,    2,    0,    0,    0,    0,\n",
      "           0],\n",
      "       [   0,    4, 8160,    7,    0,    0,    0,    3,    3,    0,    0,\n",
      "           0],\n",
      "       [   0,    0,    4, 8177,    3,    3,    0,    0,    0,    5,    0,\n",
      "           0],\n",
      "       [   5,    0,    7,    0, 8286,    0,    0,    0,    3,    0,    0,\n",
      "           0],\n",
      "       [   0,    0,    0,    0,    9, 8165,    0,    0,    0,    0,    0,\n",
      "           0],\n",
      "       [   4,    0,    0,    4,    0,    0, 8191,    3,    7,    0,    0,\n",
      "           2],\n",
      "       [   0,    0,   21,    0,    2,    0,    0, 8202,    0,    4,    0,\n",
      "           0],\n",
      "       [   3,    0,    2,    0,    0,    4,    0,    0, 8146,    3,    0,\n",
      "           0],\n",
      "       [   0,   12,    0,    0,    0,    0,    0,    3,    0, 8231,    0,\n",
      "           0],\n",
      "       [ 431,  366,  389,  407,  411,  377,  356,  404,  371,  378, 4261,\n",
      "          48],\n",
      "       [   0,    0,    0,    0,    0,    0,    0,    0,    0,    0,    0,\n",
      "        8189]], dtype=int64)], 'recall_score': [0.95844295766585519], 'precision_score': [0.96036206983966255], 'f1_score': [0.9526404248561775]}, 'ExtraTreesClassifier': {'accuracy_score': [0.96210936706804473], 'confusion_matrix': [array([[8215,    4,    4,    0,    0,    0,    0,    0,    1,    0,    0,\n",
      "           0],\n",
      "       [   0, 8186,    0,    0,    0,    6,    2,    0,    0,    0,    0,\n",
      "           0],\n",
      "       [   0,    4, 8165,    2,    0,    0,    0,    3,    3,    0,    0,\n",
      "           0],\n",
      "       [   0,    0,    8, 8181,    3,    0,    0,    0,    0,    0,    0,\n",
      "           0],\n",
      "       [   5,    0,    7,    0, 8289,    0,    0,    0,    0,    0,    0,\n",
      "           0],\n",
      "       [   0,    0,    0,    2,    3, 8169,    0,    0,    0,    0,    0,\n",
      "           0],\n",
      "       [   4,    0,    0,    4,    0,    0, 8191,    3,    7,    0,    0,\n",
      "           2],\n",
      "       [   0,    0,   21,    0,    2,    0,    0, 8202,    0,    4,    0,\n",
      "           0],\n",
      "       [   3,    0,    2,    0,    4,    4,    0,    0, 8142,    3,    0,\n",
      "           0],\n",
      "       [   0,   12,    0,    2,    0,    0,    0,    3,    0, 8229,    0,\n",
      "           0],\n",
      "       [ 378,  340,  375,  384,  376,  345,  318,  365,  329,  346, 4604,\n",
      "          39],\n",
      "       [   0,    0,    0,    0,    0,    0,    0,    0,    0,    0,    0,\n",
      "        8189]], dtype=int64)], 'recall_score': [0.9620711580377086], 'precision_score': [0.96368701492431397], 'f1_score': [0.95738075000926592]}, 'GradientBoostingClassifier': {'accuracy_score': [0.21572887688590167], 'confusion_matrix': [array([[4885,  433,    0,   69,  742,    0,  296,    0,  936,  295,    0,\n",
      "         568],\n",
      "       [1039, 3146,    0,  351,  397,    9, 1440,    0, 1207,  530,    0,\n",
      "          75],\n",
      "       [2230, 1361,    0,  147,  911,   14,  933,    0, 2106,  301,    0,\n",
      "         174],\n",
      "       [1209, 2102,    0,  396,  384,    0, 1979,    0, 1657,  345,    0,\n",
      "         120],\n",
      "       [3197, 1004,    0,  111,  964,    0,  714,    0, 1655,  416,    0,\n",
      "         240],\n",
      "       [1449, 1902,    0,  173,  611,   12, 1633,    0, 1911,  408,    0,\n",
      "          75],\n",
      "       [ 950, 2341,    0,  376,  522,    0, 2002,    0, 1529,  347,    0,\n",
      "         144],\n",
      "       [2246, 1411,    0,  167,  948,    5, 1040,    0, 1872,  368,    0,\n",
      "         172],\n",
      "       [1675, 1108,    0,  118,  978,    0, 1383,    0, 2538,  272,    0,\n",
      "          86],\n",
      "       [1151, 2905,    0,  229,  538,    0, 1241,    0, 1483,  582,    0,\n",
      "         117],\n",
      "       [2232, 1727,    0,  204,  672,    2, 1223,    0, 1494,  375,    0,\n",
      "         270],\n",
      "       [ 855,  349,    0,   27,   27,   34,   48,    0,    0,  126,    0,\n",
      "        6723]], dtype=int64)], 'recall_score': [0.21586292716859332], 'precision_score': [0.16690607369435115], 'f1_score': [0.16604117257560899]}, 'AdaBoostClassifier': {'accuracy_score': [0.19801206164842527], 'confusion_matrix': [array([[3994,   66,    0,    0,  163,    5,  270,   22, 2026,  223,    0,\n",
      "        1455],\n",
      "       [1121,  138,    0,    0,   55,   62, 2584,   40, 3233,  806,    0,\n",
      "         155],\n",
      "       [2010,  102,    0,    0,  124,   28,  858,    5, 4090,  507,    0,\n",
      "         453],\n",
      "       [1134,  116,    0,    0,   70,   48, 1815,   15, 4310,  420,    0,\n",
      "         264],\n",
      "       [2867,   61,    0,    0,  170,   17,  583,   28, 3490,  463,    0,\n",
      "         622],\n",
      "       [1394,   79,    0,    0,   81,   57, 1371,   31, 4318,  624,    0,\n",
      "         219],\n",
      "       [ 856,   98,    0,    0,   81,   43, 2085,   40, 4270,  475,    0,\n",
      "         263],\n",
      "       [2170,   98,    0,    0,   72,   36,  879,   26, 4016,  499,    0,\n",
      "         433],\n",
      "       [1569,   53,    0,    0,  148,   34,  646,   24, 5010,  428,    0,\n",
      "         246],\n",
      "       [1271,  130,    0,    0,   56,   66, 2185,   26, 3338,  926,    0,\n",
      "         248],\n",
      "       [2002,   71,    0,    0,   83,   36, 1333,   22, 3557,  474,    0,\n",
      "         621],\n",
      "       [ 606,   61,    0,    0,   51,    0,    0,    0,    0,  374,    0,\n",
      "        7097]], dtype=int64)], 'recall_score': [0.1983418093689234], 'precision_score': [0.14090689130260928], 'f1_score': [0.13090181307987936]}, 'VotingClassifier': {'accuracy_score': [0.96246471866306582, 0.96270838832822303, 0.95591609641196418], 'confusion_matrix': [array([[8215,    4,    4,    0,    0,    0,    0,    0,    1,    0,    0,\n",
      "           0],\n",
      "       [   0, 8186,    0,    0,    0,    6,    2,    0,    0,    0,    0,\n",
      "           0],\n",
      "       [   0,    4, 8160,    7,    0,    0,    0,    3,    3,    0,    0,\n",
      "           0],\n",
      "       [   0,    0,    4, 8177,    3,    3,    0,    0,    0,    5,    0,\n",
      "           0],\n",
      "       [   5,    0,    7,    0, 8286,    0,    0,    0,    3,    0,    0,\n",
      "           0],\n",
      "       [   0,    0,    0,    0,    9, 8165,    0,    0,    0,    0,    0,\n",
      "           0],\n",
      "       [   4,    0,    0,    4,    0,    0, 8191,    3,    7,    0,    0,\n",
      "           2],\n",
      "       [   0,    0,   21,    0,    2,    0,    0, 8202,    0,    4,    0,\n",
      "           0],\n",
      "       [   3,    0,    2,    0,    0,    4,    0,    0, 8146,    3,    0,\n",
      "           0],\n",
      "       [   0,   12,    0,    0,    0,    0,    0,    3,    0, 8231,    0,\n",
      "           0],\n",
      "       [ 376,  324,  355,  372,  376,  342,  314,  370,  336,  340, 4649,\n",
      "          45],\n",
      "       [   0,    0,    0,    0,    0,    0,    0,    0,    0,    0,    0,\n",
      "        8189]], dtype=int64), array([[8215,    4,    4,    0,    0,    0,    0,    0,    1,    0,    0,\n",
      "           0],\n",
      "       [   0, 8186,    0,    0,    0,    6,    2,    0,    0,    0,    0,\n",
      "           0],\n",
      "       [   0,    4, 8165,    2,    0,    0,    0,    3,    3,    0,    0,\n",
      "           0],\n",
      "       [   0,    0,    8, 8173,    3,    3,    0,    0,    0,    5,    0,\n",
      "           0],\n",
      "       [   5,    0,    7,    0, 8289,    0,    0,    0,    0,    0,    0,\n",
      "           0],\n",
      "       [   0,    0,    0,    0,    9, 8165,    0,    0,    0,    0,    0,\n",
      "           0],\n",
      "       [   4,    0,    0,    4,    0,    0, 8191,    3,    7,    0,    0,\n",
      "           2],\n",
      "       [   0,    0,   21,    0,    2,    0,    0, 8202,    0,    4,    0,\n",
      "           0],\n",
      "       [   3,    0,    2,    0,    4,    4,    0,    0, 8142,    3,    0,\n",
      "           0],\n",
      "       [   0,   12,    0,    0,    0,    0,    0,    3,    0, 8231,    0,\n",
      "           0],\n",
      "       [ 376,  323,  354,  371,  372,  338,  309,  367,  335,  334, 4673,\n",
      "          47],\n",
      "       [   0,    0,    0,    0,    0,    0,    0,    0,    0,    0,    0,\n",
      "        8189]], dtype=int64), array([[8215,    4,    4,    0,    0,    0,    0,    0,    1,    0,    0,\n",
      "           0],\n",
      "       [   0, 8186,    0,    0,    0,    6,    2,    0,    0,    0,    0,\n",
      "           0],\n",
      "       [   0,    4, 8165,    2,    0,    0,    0,    3,    3,    0,    0,\n",
      "           0],\n",
      "       [   0,    0,    8, 8181,    3,    0,    0,    0,    0,    0,    0,\n",
      "           0],\n",
      "       [   5,    0,    7,    0, 8289,    0,    0,    0,    0,    0,    0,\n",
      "           0],\n",
      "       [   0,    0,    0,    2,    9, 8163,    0,    0,    0,    0,    0,\n",
      "           0],\n",
      "       [   4,    0,    0,    4,    0,    0, 8191,    3,    7,    0,    0,\n",
      "           2],\n",
      "       [   0,    0,   21,    0,    2,    0,    0, 8202,    0,    4,    0,\n",
      "           0],\n",
      "       [   3,    0,    2,    0,    4,    4,    0,    0, 8142,    3,    0,\n",
      "           0],\n",
      "       [   0,   12,    0,    2,    0,    0,    0,    3,    0, 8229,    0,\n",
      "           0],\n",
      "       [ 461,  409,  432,  449,  436,  404,  383,  420,  372,  395, 4000,\n",
      "          38],\n",
      "       [   0,    0,    0,    0,    0,    0,    0,    0,    0,    0,    0,\n",
      "        8189]], dtype=int64)], 'recall_score': [0.96242705979687637, 0.96267051497842981, 0.95587102843990579], 'precision_score': [0.96400284369294953, 0.96422638965756124, 0.95805089709728064], 'f1_score': [0.95787254179896208, 0.95818707535556447, 0.94911705532511481]}, 'LinearSVC': {'accuracy_score': [0.10902186935244787], 'confusion_matrix': [array([[   0, 3166,    0,    0,    0,    0,    0,    0, 5052,    0,    0,\n",
      "           6],\n",
      "       [   0, 4418,    0,    0,    0,    0,    0,    0, 3770,    0,    0,\n",
      "           6],\n",
      "       [   0, 2660,    0,    0,    0,    0,    0,    0, 5517,    0,    0,\n",
      "           0],\n",
      "       [   0, 3090,    0,    0,    0,    0,    0,    0, 5102,    0,    0,\n",
      "           0],\n",
      "       [   0, 2727,    0,    0,    0,    0,    0,    0, 5564,    0,    0,\n",
      "          10],\n",
      "       [   0, 3071,    0,    0,    0,    0,    0,    0, 5103,    0,    0,\n",
      "           0],\n",
      "       [   0, 3230,    0,    0,    0,    0,    0,    0, 4981,    0,    0,\n",
      "           0],\n",
      "       [   0, 2817,    0,    0,    0,    0,    0,    0, 5411,    0,    0,\n",
      "           1],\n",
      "       [   0, 1901,    0,    0,    0,    0,    0,    0, 6257,    0,    0,\n",
      "           0],\n",
      "       [   0, 4217,    0,    0,    0,    0,    0,    0, 4029,    0,    0,\n",
      "           0],\n",
      "       [   0, 3218,    0,    0,    0,    0,    0,    0, 4978,    0,    0,\n",
      "           3],\n",
      "       [   0, 6977,    0,    0,    0,    0,    0,    0, 1149,    0,    0,\n",
      "          63]], dtype=int64)], 'recall_score': [0.10948712111957719], 'precision_score': [0.077023604865608095], 'f1_score': [0.032114241252587543]}, 'SGDClassifier': {'accuracy_score': [0.093762056571973923], 'confusion_matrix': [array([[   0,    0,    0,    0,    0, 4436,    0,    0, 3788,    0,    0,\n",
      "           0],\n",
      "       [   0,    0,    0,    0,    0, 4540,    0,    0, 3654,    0,    0,\n",
      "           0],\n",
      "       [   0,    0,    0,    0,    0, 3100,    0,    0, 5077,    0,    0,\n",
      "           0],\n",
      "       [   0,    0,    0,    0,    0, 3328,    0,    0, 4864,    0,    0,\n",
      "           0],\n",
      "       [   0,    0,    0,    0,    0, 3364,    0,    0, 4937,    0,    0,\n",
      "           0],\n",
      "       [   0,    0,    0,    0,    0, 3267,    0,    0, 4907,    0,    0,\n",
      "           0],\n",
      "       [   0,    0,    0,    0,    0, 3465,    0,    0, 4746,    0,    0,\n",
      "           0],\n",
      "       [   0,    0,    0,    0,    0, 3224,    0,    0, 5005,    0,    0,\n",
      "           0],\n",
      "       [   0,    0,    0,    0,    0, 2190,    0,    0, 5968,    0,    0,\n",
      "           0],\n",
      "       [   0,    0,    0,    0,    0, 4446,    0,    0, 3800,    0,    0,\n",
      "           0],\n",
      "       [   0,    0,    0,    0,    0, 3762,    0,    0, 4437,    0,    0,\n",
      "           0],\n",
      "       [   0,    0,    0,    0,    0, 7928,    0,    0,  261,    0,    0,\n",
      "           0]], dtype=int64)], 'recall_score': [0.094269480768443659], 'precision_score': [0.015453867578853355], 'f1_score': [0.026548321561563351]}}\n"
     ]
    }
   ],
   "source": [
    "# MFC Matrix Data Preprocessing & Prediction\n",
    "new_mfc_matrix = np.array(mfc_matrix)\n",
    "nsamples, nx, ny = new_mfc_matrix.shape\n",
    "new_mfc_matrix = new_mfc_matrix.reshape((nsamples,nx*ny))\n",
    "pca = PCA(n_components=1)\n",
    "new_mfc_matrix = pca.fit_transform(new_mfc_matrix)\n",
    "\n",
    "final_results = ShowResult(new_mfc_matrix)\n",
    "print(final_results)"
   ]
  },
  {
   "cell_type": "code",
   "execution_count": 46,
   "metadata": {},
   "outputs": [
    {
     "name": "stdout",
     "output_type": "stream",
     "text": [
      "accuracy_scores\n",
      "\n",
      "RandomForestClassifier\n",
      "[0.95848478079883037]\n",
      "\n",
      "ExtraTreesClassifier\n",
      "[0.96210936706804473]\n",
      "\n",
      "GradientBoostingClassifier\n",
      "[0.21572887688590167]\n",
      "\n",
      "AdaBoostClassifier\n",
      "[0.19801206164842527]\n",
      "\n",
      "VotingClassifier\n",
      "[0.96246471866306582, 0.96270838832822303, 0.95591609641196418]\n",
      "\n",
      "LinearSVC\n",
      "[0.10902186935244787]\n",
      "\n",
      "SGDClassifier\n",
      "[0.093762056571973923]\n"
     ]
    }
   ],
   "source": [
    "print(\"accuracy_scores\")\n",
    "for i in final_results:\n",
    "    print(\"\\n\"+i)\n",
    "    print(final_results[i][\"accuracy_score\"])"
   ]
  },
  {
   "cell_type": "code",
   "execution_count": 50,
   "metadata": {},
   "outputs": [
    {
     "data": {
      "image/png": "[encoded data removed]",
      "text/plain": [
       "<matplotlib.figure.Figure at 0x23081bb14e0>"
      ]
     },
     "metadata": {},
     "output_type": "display_data"
    }
   ],
   "source": [
    "# Plotting confusion matrix\n",
    "plt.matshow(final_results[\"VotingClassifier\"][\"confusion_matrix\"][2], cmap=plt.cm.gray)\n",
    "plt.show()"
   ]
  },
  {
   "cell_type": "code",
   "execution_count": 51,
   "metadata": {},
   "outputs": [
    {
     "data": {
      "image/png": "[encoded data removed]",
      "text/plain": [
       "<matplotlib.figure.Figure at 0x2307dcc2588>"
      ]
     },
     "metadata": {},
     "output_type": "display_data"
    }
   ],
   "source": [
    "# Errors the classifier makes\n",
    "row_sums = final_results[\"VotingClassifier\"][\"confusion_matrix\"][2].sum(axis=1, keepdims=True)\n",
    "norm_conf_mx = final_results[\"VotingClassifier\"][\"confusion_matrix\"][2] / row_sums\n",
    "\n",
    "np.fill_diagonal(norm_conf_mx, 0)\n",
    "plt.matshow(norm_conf_mx, cmap=plt.cm.gray)\n",
    "plt.show()"
   ]
  },
  {
   "cell_type": "markdown",
   "metadata": {},
   "source": [
    "<h3>Testing using Waveform Matrix</h3>\n",
    "<p>Result: Memory was not enough</p>"
   ]
  },
  {
   "cell_type": "code",
   "execution_count": 70,
   "metadata": {
    "collapsed": true
   },
   "outputs": [
    {
     "ename": "MemoryError",
     "evalue": "",
     "output_type": "error",
     "traceback": [
      "\u001b[1;31m---------------------------------------------------------------------------\u001b[0m",
      "\u001b[1;31mMemoryError\u001b[0m                               Traceback (most recent call last)",
      "\u001b[1;32m<ipython-input-70-5b72aef1ba1c>\u001b[0m in \u001b[0;36m<module>\u001b[1;34m()\u001b[0m\n\u001b[0;32m      1\u001b[0m \u001b[1;31m# Waveform Matrix Prediction\u001b[0m\u001b[1;33m\u001b[0m\u001b[1;33m\u001b[0m\u001b[0m\n\u001b[1;32m----> 2\u001b[1;33m \u001b[0mprint\u001b[0m\u001b[1;33m(\u001b[0m\u001b[0mShowResult\u001b[0m\u001b[1;33m(\u001b[0m\u001b[0mwaveform_matrix\u001b[0m\u001b[1;33m)\u001b[0m\u001b[1;33m)\u001b[0m\u001b[1;33m\u001b[0m\u001b[0m\n\u001b[0m",
      "\u001b[1;32m<ipython-input-28-baaee2850898>\u001b[0m in \u001b[0;36mShowResult\u001b[1;34m(matrix)\u001b[0m\n\u001b[0;32m      1\u001b[0m \u001b[1;32mdef\u001b[0m \u001b[0mShowResult\u001b[0m\u001b[1;33m(\u001b[0m\u001b[0mmatrix\u001b[0m\u001b[1;33m)\u001b[0m\u001b[1;33m:\u001b[0m\u001b[1;33m\u001b[0m\u001b[0m\n\u001b[1;32m----> 2\u001b[1;33m     \u001b[0mdf1\u001b[0m \u001b[1;33m=\u001b[0m \u001b[0mpd\u001b[0m\u001b[1;33m.\u001b[0m\u001b[0mDataFrame\u001b[0m\u001b[1;33m(\u001b[0m\u001b[0mmatrix\u001b[0m\u001b[1;33m)\u001b[0m\u001b[1;33m\u001b[0m\u001b[0m\n\u001b[0m\u001b[0;32m      3\u001b[0m     \u001b[0mdf1\u001b[0m \u001b[1;33m=\u001b[0m \u001b[0mdf1\u001b[0m\u001b[1;33m.\u001b[0m\u001b[0mfillna\u001b[0m\u001b[1;33m(\u001b[0m\u001b[0mdf1\u001b[0m\u001b[1;33m.\u001b[0m\u001b[0mmean\u001b[0m\u001b[1;33m(\u001b[0m\u001b[1;33m)\u001b[0m\u001b[1;33m)\u001b[0m\u001b[1;33m\u001b[0m\u001b[0m\n\u001b[0;32m      4\u001b[0m \u001b[1;33m\u001b[0m\u001b[0m\n\u001b[0;32m      5\u001b[0m     \u001b[0mscaler\u001b[0m \u001b[1;33m=\u001b[0m \u001b[0mStandardScaler\u001b[0m\u001b[1;33m(\u001b[0m\u001b[1;33m)\u001b[0m\u001b[1;33m\u001b[0m\u001b[0m\n",
      "\u001b[1;32mC:\\Users\\musta\\Anaconda3\\lib\\site-packages\\pandas\\core\\frame.py\u001b[0m in \u001b[0;36m__init__\u001b[1;34m(self, data, index, columns, dtype, copy)\u001b[0m\n\u001b[0;32m    312\u001b[0m                     \u001b[1;32mif\u001b[0m \u001b[0mis_named_tuple\u001b[0m\u001b[1;33m(\u001b[0m\u001b[0mdata\u001b[0m\u001b[1;33m[\u001b[0m\u001b[1;36m0\u001b[0m\u001b[1;33m]\u001b[0m\u001b[1;33m)\u001b[0m \u001b[1;32mand\u001b[0m \u001b[0mcolumns\u001b[0m \u001b[1;32mis\u001b[0m \u001b[1;32mNone\u001b[0m\u001b[1;33m:\u001b[0m\u001b[1;33m\u001b[0m\u001b[0m\n\u001b[0;32m    313\u001b[0m                         \u001b[0mcolumns\u001b[0m \u001b[1;33m=\u001b[0m \u001b[0mdata\u001b[0m\u001b[1;33m[\u001b[0m\u001b[1;36m0\u001b[0m\u001b[1;33m]\u001b[0m\u001b[1;33m.\u001b[0m\u001b[0m_fields\u001b[0m\u001b[1;33m\u001b[0m\u001b[0m\n\u001b[1;32m--> 314\u001b[1;33m                     \u001b[0marrays\u001b[0m\u001b[1;33m,\u001b[0m \u001b[0mcolumns\u001b[0m \u001b[1;33m=\u001b[0m \u001b[0m_to_arrays\u001b[0m\u001b[1;33m(\u001b[0m\u001b[0mdata\u001b[0m\u001b[1;33m,\u001b[0m \u001b[0mcolumns\u001b[0m\u001b[1;33m,\u001b[0m \u001b[0mdtype\u001b[0m\u001b[1;33m=\u001b[0m\u001b[0mdtype\u001b[0m\u001b[1;33m)\u001b[0m\u001b[1;33m\u001b[0m\u001b[0m\n\u001b[0m\u001b[0;32m    315\u001b[0m                     \u001b[0mcolumns\u001b[0m \u001b[1;33m=\u001b[0m \u001b[0m_ensure_index\u001b[0m\u001b[1;33m(\u001b[0m\u001b[0mcolumns\u001b[0m\u001b[1;33m)\u001b[0m\u001b[1;33m\u001b[0m\u001b[0m\n\u001b[0;32m    316\u001b[0m \u001b[1;33m\u001b[0m\u001b[0m\n",
      "\u001b[1;32mC:\\Users\\musta\\Anaconda3\\lib\\site-packages\\pandas\\core\\frame.py\u001b[0m in \u001b[0;36m_to_arrays\u001b[1;34m(data, columns, coerce_float, dtype)\u001b[0m\n\u001b[0;32m   5733\u001b[0m     \u001b[1;32melse\u001b[0m\u001b[1;33m:\u001b[0m\u001b[1;33m\u001b[0m\u001b[0m\n\u001b[0;32m   5734\u001b[0m         \u001b[1;31m# last ditch effort\u001b[0m\u001b[1;33m\u001b[0m\u001b[1;33m\u001b[0m\u001b[0m\n\u001b[1;32m-> 5735\u001b[1;33m         \u001b[0mdata\u001b[0m \u001b[1;33m=\u001b[0m \u001b[0mlmap\u001b[0m\u001b[1;33m(\u001b[0m\u001b[0mtuple\u001b[0m\u001b[1;33m,\u001b[0m \u001b[0mdata\u001b[0m\u001b[1;33m)\u001b[0m\u001b[1;33m\u001b[0m\u001b[0m\n\u001b[0m\u001b[0;32m   5736\u001b[0m         return _list_to_arrays(data, columns, coerce_float=coerce_float,\n\u001b[0;32m   5737\u001b[0m                                dtype=dtype)\n",
      "\u001b[1;32mC:\\Users\\musta\\Anaconda3\\lib\\site-packages\\pandas\\compat\\__init__.py\u001b[0m in \u001b[0;36mlmap\u001b[1;34m(*args, **kwargs)\u001b[0m\n\u001b[0;32m    122\u001b[0m \u001b[1;33m\u001b[0m\u001b[0m\n\u001b[0;32m    123\u001b[0m     \u001b[1;32mdef\u001b[0m \u001b[0mlmap\u001b[0m\u001b[1;33m(\u001b[0m\u001b[1;33m*\u001b[0m\u001b[0margs\u001b[0m\u001b[1;33m,\u001b[0m \u001b[1;33m**\u001b[0m\u001b[0mkwargs\u001b[0m\u001b[1;33m)\u001b[0m\u001b[1;33m:\u001b[0m\u001b[1;33m\u001b[0m\u001b[0m\n\u001b[1;32m--> 124\u001b[1;33m         \u001b[1;32mreturn\u001b[0m \u001b[0mlist\u001b[0m\u001b[1;33m(\u001b[0m\u001b[0mmap\u001b[0m\u001b[1;33m(\u001b[0m\u001b[1;33m*\u001b[0m\u001b[0margs\u001b[0m\u001b[1;33m,\u001b[0m \u001b[1;33m**\u001b[0m\u001b[0mkwargs\u001b[0m\u001b[1;33m)\u001b[0m\u001b[1;33m)\u001b[0m\u001b[1;33m\u001b[0m\u001b[0m\n\u001b[0m\u001b[0;32m    125\u001b[0m \u001b[1;33m\u001b[0m\u001b[0m\n\u001b[0;32m    126\u001b[0m     \u001b[1;32mdef\u001b[0m \u001b[0mlfilter\u001b[0m\u001b[1;33m(\u001b[0m\u001b[1;33m*\u001b[0m\u001b[0margs\u001b[0m\u001b[1;33m,\u001b[0m \u001b[1;33m**\u001b[0m\u001b[0mkwargs\u001b[0m\u001b[1;33m)\u001b[0m\u001b[1;33m:\u001b[0m\u001b[1;33m\u001b[0m\u001b[0m\n",
      "\u001b[1;31mMemoryError\u001b[0m: "
     ]
    }
   ],
   "source": [
    "# Waveform Matrix Prediction\n",
    "print(ShowResult(waveform_matrix))"
   ]
  },
  {
   "cell_type": "markdown",
   "metadata": {},
   "source": [
    "<h3>Testing using Spectrogram Matrix</h3>\n",
    "<p>Result: Soft Voting Classifier Gave 0.96354 accuracy</p>"
   ]
  },
  {
   "cell_type": "code",
   "execution_count": 69,
   "metadata": {
    "scrolled": true
   },
   "outputs": [
    {
     "name": "stderr",
     "output_type": "stream",
     "text": [
      "C:\\Users\\musta\\Anaconda3\\lib\\site-packages\\sklearn\\linear_model\\stochastic_gradient.py:128: FutureWarning:\n",
      "\n",
      "max_iter and tol parameters have been added in <class 'sklearn.linear_model.stochastic_gradient.SGDClassifier'> in 0.19. If both are left unset, they default to max_iter=5 and tol=None. If tol is not None, max_iter defaults to max_iter=1000. From 0.21, default max_iter will be 1000, and default tol will be 1e-3.\n",
      "\n",
      "C:\\Users\\musta\\Anaconda3\\lib\\site-packages\\sklearn\\metrics\\classification.py:1135: UndefinedMetricWarning:\n",
      "\n",
      "Precision is ill-defined and being set to 0.0 in labels with no predicted samples.\n",
      "\n",
      "C:\\Users\\musta\\Anaconda3\\lib\\site-packages\\sklearn\\metrics\\classification.py:1135: UndefinedMetricWarning:\n",
      "\n",
      "F-score is ill-defined and being set to 0.0 in labels with no predicted samples.\n",
      "\n"
     ]
    },
    {
     "name": "stdout",
     "output_type": "stream",
     "text": [
      "{'RandomForestClassifier': {'accuracy_score': [0.9589721201291449], 'confusion_matrix': [array([[8224,    0,    0,    0,    0,    0,    0,    0,    0,    0,    0,\n",
      "           0],\n",
      "       [   4, 8187,    0,    3,    0,    0,    0,    0,    0,    0,    0,\n",
      "           0],\n",
      "       [   0,    0, 8173,    4,    0,    0,    0,    0,    0,    0,    0,\n",
      "           0],\n",
      "       [   0,    0,    0, 8192,    0,    0,    0,    0,    0,    0,    0,\n",
      "           0],\n",
      "       [   0,    0,    0,    0, 8301,    0,    0,    0,    0,    0,    0,\n",
      "           0],\n",
      "       [   0,    0,    0,    0,    0, 8174,    0,    0,    0,    0,    0,\n",
      "           0],\n",
      "       [   0,    0,    0,    0,    0,    0, 8211,    0,    0,    0,    0,\n",
      "           0],\n",
      "       [   0,    0,    0,    1,    0,    0,    0, 8228,    0,    0,    0,\n",
      "           0],\n",
      "       [   0,    0,    0,    0,    0,    0,    0,    0, 8158,    0,    0,\n",
      "           0],\n",
      "       [   0,    0,    0,    0,    0,    0,    0,    0,    0, 8246,    0,\n",
      "           0],\n",
      "       [ 357,  448,  405,  406,  404,  400,  414,  354,  421,  367, 4170,\n",
      "          53],\n",
      "       [   0,    0,    0,    0,    0,    0,    0,    0,    0,    0,    0,\n",
      "        8189]], dtype=int64)], 'recall_score': [0.95892780229633934], 'precision_score': [0.96086021253442022], 'f1_score': [0.95276677787479347]}, 'ExtraTreesClassifier': {'accuracy_score': [0.96310435153410356], 'confusion_matrix': [array([[8224,    0,    0,    0,    0,    0,    0,    0,    0,    0,    0,\n",
      "           0],\n",
      "       [   4, 8187,    0,    3,    0,    0,    0,    0,    0,    0,    0,\n",
      "           0],\n",
      "       [   0,    0, 8177,    0,    0,    0,    0,    0,    0,    0,    0,\n",
      "           0],\n",
      "       [   0,    0,    2, 8190,    0,    0,    0,    0,    0,    0,    0,\n",
      "           0],\n",
      "       [   0,    0,    0,    0, 8301,    0,    0,    0,    0,    0,    0,\n",
      "           0],\n",
      "       [   0,    0,    0,    0,    0, 8174,    0,    0,    0,    0,    0,\n",
      "           0],\n",
      "       [   0,    0,    0,    0,    0,    0, 8211,    0,    0,    0,    0,\n",
      "           0],\n",
      "       [   0,    0,    0,    1,    0,    0,    0, 8228,    0,    0,    0,\n",
      "           0],\n",
      "       [   0,    0,    0,    0,    0,    0,    0,    0, 8158,    0,    0,\n",
      "           0],\n",
      "       [   0,    0,    0,    0,    0,    0,    0,    0,    0, 8246,    0,\n",
      "           0],\n",
      "       [ 335,  405,  371,  378,  364,  337,  349,  333,  384,  318, 4575,\n",
      "          50],\n",
      "       [   0,    0,    0,    0,    0,    0,    0,    0,    0,    0,    0,\n",
      "        8189]], dtype=int64)], 'recall_score': [0.96306457764403142], 'precision_score': [0.96463810847777021], 'f1_score': [0.95825373987091333]}, 'GradientBoostingClassifier': {'accuracy_score': [0.17337096675939651], 'confusion_matrix': [array([[1619, 1305, 1174,  289,   54, 1147,    6,  153, 1415,  350,   42,\n",
      "         670],\n",
      "       [1143,  910, 1281,  314,   29, 1376,    0,  206, 1701,  384,   13,\n",
      "         837],\n",
      "       [ 747,  714, 1904,  225,   20, 1404,    0,  201, 1399,  400,   13,\n",
      "        1150],\n",
      "       [1324,  844, 1266,  368,   36, 1205,    1,  202, 1679,  415,   16,\n",
      "         836],\n",
      "       [1176,  860, 1542,  237,   24, 1337,    3,  200, 1603,  359,   30,\n",
      "         930],\n",
      "       [1039,  820, 1416,  312,   12, 1583,    4,  251, 1306,  413,   21,\n",
      "         997],\n",
      "       [1098,  962, 1341,  270,   36, 1346,   23,  223, 1610,  378,   48,\n",
      "         876],\n",
      "       [1331, 1040, 1350,  256,   35, 1170,    5,  317, 1519,  371,   14,\n",
      "         821],\n",
      "       [ 923,  663, 1438,  285,   20, 1236,    0,  172, 2293,  305,   21,\n",
      "         802],\n",
      "       [1228,  922, 1226,  297,   44, 1192,    0,  284, 1510,  527,   38,\n",
      "         978],\n",
      "       [1192,  918, 1360,  305,   30, 1305,    7,  213, 1554,  397,   21,\n",
      "         897],\n",
      "       [   0,    0,  478,   23,    0,  101,    0,   38,   47,   15,    0,\n",
      "        7487]], dtype=int64)], 'recall_score': [0.17378228270059526], 'precision_score': [0.16617014131546387], 'f1_score': [0.12858940320003284]}, 'AdaBoostClassifier': {'accuracy_score': [0.16723861351960526], 'confusion_matrix': [array([[2380,  121,  805,    0,    0, 1175,    0, 1772,  204, 1065,    0,\n",
      "         702],\n",
      "       [1569,  197,  912,    0,    0, 1452,    0, 1698,  260, 1216,    0,\n",
      "         890],\n",
      "       [1030,  191, 1335,    0,    0, 1698,    0, 1223,  303, 1160,    0,\n",
      "        1237],\n",
      "       [1868,   79,  866,    0,    0, 1365,    0, 1863,  200, 1086,    0,\n",
      "         865],\n",
      "       [1723,  195, 1082,    0,    0, 1463,    0, 1515,  291, 1026,    0,\n",
      "        1006],\n",
      "       [1573,  143,  950,    0,    0, 1700,    0, 1276,  253, 1216,    0,\n",
      "        1063],\n",
      "       [1776,  104,  893,    0,    0, 1477,    0, 1684,  220, 1144,    0,\n",
      "         913],\n",
      "       [1897,  104,  995,    0,    0, 1282,    0, 1727,  255, 1110,    0,\n",
      "         859],\n",
      "       [1160,  189, 1072,    0,    0, 1340,    0, 2285,  276,  991,    0,\n",
      "         845],\n",
      "       [1829,  153,  819,    0,    0, 1350,    0, 1569,  211, 1285,    0,\n",
      "        1030],\n",
      "       [1612,  138,  985,    0,    0, 1424,    0, 1609,  275, 1206,    0,\n",
      "         950],\n",
      "       [   0,   27,  328,    0,    0,  224,    0,    0,    0,   38,    0,\n",
      "        7572]], dtype=int64)], 'recall_score': [0.16740547580850404], 'precision_score': [0.099724095905346366], 'f1_score': [0.11526527630904333]}, 'VotingClassifier': {'accuracy_score': [0.96352062054541399, 0.96354092635084365, 0.95633236542327449], 'confusion_matrix': [array([[8224,    0,    0,    0,    0,    0,    0,    0,    0,    0,    0,\n",
      "           0],\n",
      "       [   4, 8187,    0,    3,    0,    0,    0,    0,    0,    0,    0,\n",
      "           0],\n",
      "       [   0,    0, 8173,    4,    0,    0,    0,    0,    0,    0,    0,\n",
      "           0],\n",
      "       [   0,    0,    0, 8192,    0,    0,    0,    0,    0,    0,    0,\n",
      "           0],\n",
      "       [   0,    0,    0,    0, 8301,    0,    0,    0,    0,    0,    0,\n",
      "           0],\n",
      "       [   0,    0,    0,    0,    0, 8174,    0,    0,    0,    0,    0,\n",
      "           0],\n",
      "       [   0,    0,    0,    0,    0,    0, 8211,    0,    0,    0,    0,\n",
      "           0],\n",
      "       [   0,    0,    0,    1,    0,    0,    0, 8228,    0,    0,    0,\n",
      "           0],\n",
      "       [   0,    0,    0,    0,    0,    0,    0,    0, 8158,    0,    0,\n",
      "           0],\n",
      "       [   0,    0,    0,    0,    0,    0,    0,    0,    0, 8246,    0,\n",
      "           0],\n",
      "       [ 311,  397,  358,  365,  362,  356,  358,  330,  369,  323, 4618,\n",
      "          52],\n",
      "       [   0,    0,    0,    0,    0,    0,    0,    0,    0,    0,    0,\n",
      "        8189]], dtype=int64), array([[8224,    0,    0,    0,    0,    0,    0,    0,    0,    0,    0,\n",
      "           0],\n",
      "       [   4, 8187,    0,    3,    0,    0,    0,    0,    0,    0,    0,\n",
      "           0],\n",
      "       [   0,    0, 8173,    4,    0,    0,    0,    0,    0,    0,    0,\n",
      "           0],\n",
      "       [   0,    0,    0, 8192,    0,    0,    0,    0,    0,    0,    0,\n",
      "           0],\n",
      "       [   0,    0,    0,    0, 8301,    0,    0,    0,    0,    0,    0,\n",
      "           0],\n",
      "       [   0,    0,    0,    0,    0, 8174,    0,    0,    0,    0,    0,\n",
      "           0],\n",
      "       [   0,    0,    0,    0,    0,    0, 8211,    0,    0,    0,    0,\n",
      "           0],\n",
      "       [   0,    0,    0,    1,    0,    0,    0, 8228,    0,    0,    0,\n",
      "           0],\n",
      "       [   0,    0,    0,    0,    0,    0,    0,    0, 8158,    0,    0,\n",
      "           0],\n",
      "       [   0,    0,    0,    0,    0,    0,    0,    0,    0, 8246,    0,\n",
      "           0],\n",
      "       [ 310,  406,  358,  365,  357,  352,  356,  329,  365,  322, 4620,\n",
      "          59],\n",
      "       [   0,    0,    0,    0,    0,    0,    0,    0,    0,    0,    0,\n",
      "        8189]], dtype=int64), array([[8224,    0,    0,    0,    0,    0,    0,    0,    0,    0,    0,\n",
      "           0],\n",
      "       [   4, 8187,    0,    3,    0,    0,    0,    0,    0,    0,    0,\n",
      "           0],\n",
      "       [   0,    0, 8177,    0,    0,    0,    0,    0,    0,    0,    0,\n",
      "           0],\n",
      "       [   0,    0,    2, 8190,    0,    0,    0,    0,    0,    0,    0,\n",
      "           0],\n",
      "       [   0,    0,    0,    0, 8301,    0,    0,    0,    0,    0,    0,\n",
      "           0],\n",
      "       [   0,    0,    0,    0,    0, 8174,    0,    0,    0,    0,    0,\n",
      "           0],\n",
      "       [   0,    0,    0,    0,    0,    0, 8211,    0,    0,    0,    0,\n",
      "           0],\n",
      "       [   0,    0,    0,    1,    0,    0,    0, 8228,    0,    0,    0,\n",
      "           0],\n",
      "       [   0,    0,    0,    0,    0,    0,    0,    0, 8158,    0,    0,\n",
      "           0],\n",
      "       [   0,    0,    0,    0,    0,    0,    0,    0,    0, 8246,    0,\n",
      "           0],\n",
      "       [ 415,  493,  447,  441,  429,  412,  421,  371,  440,  377, 3908,\n",
      "          45],\n",
      "       [   0,    0,    0,    0,    0,    0,    0,    0,    0,    0,    0,\n",
      "        8189]], dtype=int64)], 'recall_score': [0.96348120311757768, 0.96350153079981549, 0.95628529561776821], 'precision_score': [0.96501738007977445, 0.96503161881422939, 0.95847793092051636], 'f1_score': [0.95880129199252029, 0.95882639547154325, 0.94913308507557825]}, 'LinearSVC': {'accuracy_score': [0.094046337847990741], 'confusion_matrix': [array([[   0,    0,   96,    0,    0, 4660,    0,    0, 3344,    0,   24,\n",
      "         100],\n",
      "       [   0,    0,  145,    0,    0, 4293,    0,    0, 3646,    0,   10,\n",
      "         100],\n",
      "       [   0,    0,  176,    0,    0, 3944,    0,    0, 3918,    0,   31,\n",
      "         108],\n",
      "       [   0,    0,  125,    0,    0, 4337,    0,    0, 3603,    0,    7,\n",
      "         120],\n",
      "       [   0,    0,  120,    0,    0, 4258,    0,    0, 3769,    0,   23,\n",
      "         131],\n",
      "       [   0,    0,  128,    0,    0, 4532,    0,    0, 3369,    0,    9,\n",
      "         136],\n",
      "       [   0,    0,  137,    0,    0, 4402,    0,    0, 3550,    0,   23,\n",
      "          99],\n",
      "       [   0,    0,   68,    0,    0, 4402,    0,    0, 3650,    0,   18,\n",
      "          91],\n",
      "       [   0,    0,   97,    0,    0, 3533,    0,    0, 4414,    0,   19,\n",
      "          95],\n",
      "       [   0,    0,  153,    0,    0, 4473,    0,    0, 3450,    0,   27,\n",
      "         143],\n",
      "       [   0,    0,  121,    0,    0, 4296,    0,    0, 3656,    0,   16,\n",
      "         110],\n",
      "       [   0,    0,  141,    0,    0,  242,    0,    0, 7681,    0,    0,\n",
      "         125]], dtype=int64)], 'recall_score': [0.094520376603647774], 'precision_score': [0.039471758804157271], 'f1_score': [0.032215101477814215]}, 'SGDClassifier': {'accuracy_score': [0.073141511158040087], 'confusion_matrix': [array([[   0,    0, 2747, 3428,    0,  850,    0,    0,    0,    0,    0,\n",
      "        1199],\n",
      "       [   0,    0, 2896, 2775,    0, 1059,    0,    0,    0,    0,    0,\n",
      "        1464],\n",
      "       [   0,    0, 2837, 2176,    0, 1494,    0,    0,    0,    0,    0,\n",
      "        1670],\n",
      "       [   0,    0, 2848, 2929,    0, 1074,    0,    0,    0,    0,    0,\n",
      "        1341],\n",
      "       [   0,    0, 2919, 2732,    0, 1185,    0,    0,    0,    0,    0,\n",
      "        1465],\n",
      "       [   0,    0, 2476, 2773,    0, 1241,    0,    0,    0,    0,    0,\n",
      "        1684],\n",
      "       [   0,    0, 2780, 2898,    0, 1080,    0,    0,    0,    0,    0,\n",
      "        1453],\n",
      "       [   0,    0, 2898, 2987,    0,  976,    0,    0,    0,    0,    0,\n",
      "        1368],\n",
      "       [   0,    0, 3676, 2140,    0,  999,    0,    0,    0,    0,    0,\n",
      "        1343],\n",
      "       [   0,    0, 2618, 3075,    0, 1194,    0,    0,    0,    0,    0,\n",
      "        1359],\n",
      "       [   0,    0, 2833, 2795,    0, 1122,    0,    0,    0,    0,    0,\n",
      "        1449],\n",
      "       [   0,    0,  325,   45,    0, 7622,    0,    0,    0,    0,    0,\n",
      "         197]], dtype=int64)], 'recall_score': [0.073364351529112734], 'precision_score': [0.021583428386002631], 'f1_score': [0.033073044528883939]}}\n"
     ]
    }
   ],
   "source": [
    "# Preproccess Spectrogram Matrix\n",
    "new_spectrgoram_matrix = []\n",
    "for i in range(len(spectrogram_matrix)):\n",
    "    new = []\n",
    "    for j in spectrogram_matrix[i]:\n",
    "        new.append(j[0])\n",
    "    if len(new) < 71:\n",
    "        mean = np.mean(new)\n",
    "        for j in range(71 - len(new)):\n",
    "            new.append(mean)\n",
    "    new_spectrgoram_matrix.append(new)\n",
    "new_spectrgoram_matrix = np.array(new_spectrgoram_matrix)\n",
    "\n",
    "print(ShowResult(new_spectrgoram_matrix))"
   ]
  },
  {
   "cell_type": "markdown",
   "metadata": {},
   "source": [
    "Observing Oversampling Results"
   ]
  },
  {
   "cell_type": "code",
   "execution_count": 57,
   "metadata": {},
   "outputs": [
    {
     "data": {
      "image/png": "[encoded data removed]",
      "text/plain": [
       "<matplotlib.figure.Figure at 0x2307fcf6e48>"
      ]
     },
     "metadata": {},
     "output_type": "display_data"
    }
   ],
   "source": [
    "# Labels before oversampling\n",
    "plt.hist(labels)\n",
    "plt.show()"
   ]
  },
  {
   "cell_type": "code",
   "execution_count": 65,
   "metadata": {},
   "outputs": [
    {
     "data": {
      "image/png": "[encoded data removed]",
      "text/plain": [
       "<matplotlib.figure.Figure at 0x2307f3a0da0>"
      ]
     },
     "metadata": {},
     "output_type": "display_data"
    }
   ],
   "source": [
    "# Labels after oversampling\n",
    "df2 = pd.DataFrame(new_mfc_matrix)\n",
    "df2 = df2.fillna(df2.mean())\n",
    "\n",
    "scaler = StandardScaler()\n",
    "df2 = scaler.fit_transform(df2)\n",
    "X1 = df2[:, :]\n",
    "y1 = np.array(labels)\n",
    "ros = RandomOverSampler(random_state=0)\n",
    "X_resampled1, y_resampled1 = ros.fit_sample(X1, y1)\n",
    "\n",
    "plt.hist(y_resampled1)\n",
    "plt.show()"
   ]
  },
  {
   "cell_type": "code",
   "execution_count": 67,
   "metadata": {},
   "outputs": [
    {
     "data": {
      "image/png": "[encoded data removed]",
      "text/plain": [
       "<matplotlib.figure.Figure at 0x2307f59a438>"
      ]
     },
     "metadata": {},
     "output_type": "display_data"
    }
   ],
   "source": [
    "# Distribition of data ordered according to their labels\n",
    "plt.scatter(X_resampled1, y_resampled1, alpha = 0.03)\n",
    "plt.show()"
   ]
  },
  {
   "cell_type": "markdown",
   "metadata": {},
   "source": [
    "<h3><strong>5. Classification on Testing Data</strong></h3>"
   ]
  },
  {
   "cell_type": "code",
   "execution_count": 74,
   "metadata": {
    "collapsed": true
   },
   "outputs": [
    {
     "name": "stdout",
     "output_type": "stream",
     "text": [
      "0\n"
     ]
    },
    {
     "name": "stderr",
     "output_type": "stream",
     "text": [
      "C:\\Users\\musta\\Anaconda3\\lib\\site-packages\\sklearn\\decomposition\\pca.py:425: RuntimeWarning:\n",
      "\n",
      "invalid value encountered in true_divide\n",
      "\n"
     ]
    },
    {
     "name": "stdout",
     "output_type": "stream",
     "text": [
      "5000\n",
      "10000\n",
      "15000\n",
      "20000\n",
      "25000\n",
      "30000\n",
      "35000\n",
      "40000\n",
      "45000\n",
      "50000\n",
      "55000\n",
      "60000\n",
      "65000\n",
      "70000\n",
      "75000\n",
      "80000\n",
      "85000\n",
      "90000\n",
      "95000\n",
      "100000\n",
      "105000\n",
      "110000\n",
      "115000\n",
      "120000\n",
      "125000\n",
      "130000\n",
      "135000\n",
      "140000\n",
      "145000\n",
      "150000\n",
      "155000\n"
     ]
    }
   ],
   "source": [
    "# Filling matrix lists with testing dataset\n",
    "waveform_matrix_test = []\n",
    "spectrogram_matrix_test = []\n",
    "mfc_matrix_test = []\n",
    "file_name = []\n",
    "index = 0\n",
    "for i in os.listdir(os.getcwd()+\"/test/audio\"):\n",
    "    if index % 5000 == 0:\n",
    "        print(index)\n",
    "    index+=1\n",
    "    try:\n",
    "        example_rate, example = wavfile.read(os.getcwd()+\"\\\\test\\\\audio\\\\\"+i)\n",
    "        waveform_matrix_test.append(example[:16000])\n",
    "        mfc_matrix_test.append(pca.fit_transform(make_mfc(example_rate, example))[:128])\n",
    "        spectrogram_matrix_test.append(pca.fit_transform(make_spectrogram(example_rate, example))[:71])\n",
    "        file_name.append(i)\n",
    "    except:\n",
    "        print(\"Error in \"+ os.getcwd()+\"/test/audio\"+i)"
   ]
  },
  {
   "cell_type": "code",
   "execution_count": 75,
   "metadata": {},
   "outputs": [
    {
     "data": {
      "text/plain": [
       "['all_testing_data.pkl']"
      ]
     },
     "execution_count": 75,
     "metadata": {},
     "output_type": "execute_result"
    }
   ],
   "source": [
    "joblib.dump([waveform_matrix_test, mfc_matrix_test, spectrogram_matrix_test, file_name], 'all_testing_data.pkl', protocol = 2)"
   ]
  },
  {
   "cell_type": "code",
   "execution_count": 4,
   "metadata": {
    "collapsed": true
   },
   "outputs": [],
   "source": [
    "waveform_matrix_test, mfc_matrix_test, spectrogram_matrix_test, file_name = joblib.load('all_testing_data.pkl')"
   ]
  },
  {
   "cell_type": "code",
   "execution_count": null,
   "metadata": {
    "collapsed": true
   },
   "outputs": [],
   "source": [
    "# Preprocess training data\n",
    "new_spectrgoram_matrix = []\n",
    "for i in range(len(spectrogram_matrix)):\n",
    "    new = []\n",
    "    for j in spectrogram_matrix[i]:\n",
    "        new.append(j[0])\n",
    "    if len(new) < 71:\n",
    "        mean = np.mean(new)\n",
    "        for j in range(71 - len(new)):\n",
    "            new.append(mean)\n",
    "    new_spectrgoram_matrix.append(new)\n",
    "new_spectrgoram_matrix = np.array(new_spectrgoram_matrix)\n",
    "\n",
    "df1 = pd.DataFrame(new_spectrgoram_matrix)\n",
    "df1 = df1.fillna(df1.mean())\n",
    "\n",
    "scaler = StandardScaler()\n",
    "df1 = scaler.fit_transform(df1)\n",
    "\n",
    "# Prepare X_train, X_test, y_train\n",
    "X_train = df1[:, :]\n",
    "\n",
    "y_train = np.array(labels)\n",
    "ros = RandomOverSampler(random_state=0)\n",
    "X_train, y_train = ros.fit_sample(X_train, y_train)\n",
    "\n",
    "# Prepare testing data\n",
    "new_spectrgoram_testing_matrix = []\n",
    "for i in range(len(spectrogram_matrix_test)):\n",
    "    new = []\n",
    "    for j in spectrogram_matrix_test[i]:\n",
    "        new.append(j[0])\n",
    "    if len(new) < 71:\n",
    "        mean = np.mean(new)\n",
    "        for j in range(71 - len(new)):\n",
    "            new.append(mean)\n",
    "    new_spectrgoram_testing_matrix.append(new)\n",
    "X_test = np.array(new_spectrgoram_testing_matrix)\n",
    "df_test = pd.DataFrame(X_test)\n",
    "\n",
    "df_test = df_test.fillna(df_test.mean())\n",
    "df_test = scaler.fit_transform(df_test)\n",
    "X_test = df_test[:,:]\n",
    "\n",
    "pca = PCA(n_components=1)\n",
    "X_train = pca.fit_transform(X_train)\n",
    "X_test = pca.transform(X_test)\n",
    "\n",
    "# Predicting\n",
    "# Random Forest Classifier\n",
    "rf_clf1 = RandomForestClassifier(random_state=0, max_depth=20, min_samples_split=10, min_samples_leaf = 10)\n",
    "\n",
    "# Extra Trees Classifier\n",
    "et_clf1 = ExtraTreesClassifier(random_state=0, max_depth=20,  min_samples_split=5, min_samples_leaf = 5)\n",
    "\n",
    "# Gradient Boosting Classifier\n",
    "gb_clf1 = GradientBoostingClassifier(n_estimators=50, learning_rate=1.0, max_depth=20, random_state=0)\n",
    "\n",
    "# AdaBoost Classifier\n",
    "ab_clf1 = AdaBoostClassifier(n_estimators=50)\n",
    "\n",
    "# Soft Ensemble Classifier 2\n",
    "voting_clf2 = VotingClassifier(estimators=[('rf', rf_clf1), ('et', et_clf1), ('gb', gb_clf1), ('ab', ab_clf1)], voting='soft')\n",
    "voting_clf2.fit(X_train, y_train)\n",
    "\n",
    "y_pred = voting_clf2.predict(X_test)"
   ]
  },
  {
   "cell_type": "code",
   "execution_count": 12,
   "metadata": {
    "collapsed": true
   },
   "outputs": [],
   "source": [
    "# Gradient Boosting Classifier\n",
    "gb_clf = GradientBoostingClassifier(n_estimators=50, learning_rate=1.0, max_depth=1, random_state=0)\n",
    "gb_clf.fit(X_train, y_train)\n",
    "y_pred = gb_clf.predict(X_test)"
   ]
  },
  {
   "cell_type": "code",
   "execution_count": 6,
   "metadata": {},
   "outputs": [
    {
     "data": {
      "image/png": "[encoded data removed]",
      "text/plain": [
       "<matplotlib.figure.Figure at 0x209226b8c50>"
      ]
     },
     "metadata": {},
     "output_type": "display_data"
    },
    {
     "name": "stdout",
     "output_type": "stream",
     "text": [
      "158538\n"
     ]
    }
   ],
   "source": [
    "# Voting Classifier After test set scaling and parameter configuring\n",
    "plt.hist(y_pred)\n",
    "plt.show()\n",
    "print(len(y_pred))"
   ]
  },
  {
   "cell_type": "code",
   "execution_count": 10,
   "metadata": {},
   "outputs": [
    {
     "data": {
      "image/png": "[encoded data removed]",
      "text/plain": [
       "<matplotlib.figure.Figure at 0x20aced34c18>"
      ]
     },
     "metadata": {},
     "output_type": "display_data"
    },
    {
     "name": "stdout",
     "output_type": "stream",
     "text": [
      "158538\n"
     ]
    }
   ],
   "source": [
    "# Gradient Boosting Classifier\n",
    "plt.hist(y_pred)\n",
    "plt.show()\n",
    "print(len(y_pred))"
   ]
  },
  {
   "cell_type": "code",
   "execution_count": 28,
   "metadata": {},
   "outputs": [
    {
     "name": "stdout",
     "output_type": "stream",
     "text": [
      "158537\n",
      "158538\n"
     ]
    }
   ],
   "source": [
    "# Make the csv file to submit to the Kaggle Challange\n",
    "categories = {\"yes\":0, \"no\":1, \"up\":2, \"down\":3, \"left\":4, \"right\":5, \"on\":6, \"off\":7, \"stop\":8, \"go\":9, \"unknown\":10, \"silence\":11}\n",
    "\n",
    "file = open(\"submission.csv\", \"w\")\n",
    "file.write(\"fname,label\\n\")\n",
    "count = 0\n",
    "for i in range(len(y_pred)):\n",
    "    for key, value in categories.items():\n",
    "        if value == y_pred[i]:\n",
    "            file.write(file_name[i]+\",\"+key)\n",
    "            count += 1\n",
    "            break\n",
    "    if i != len(y_pred)-1:\n",
    "        file.write(\"\\n\")\n",
    "    else:\n",
    "         print(i)\n",
    "file.close()\n",
    "print(count)"
   ]
  },
  {
   "cell_type": "code",
   "execution_count": 15,
   "metadata": {},
   "outputs": [
    {
     "data": {
      "image/png": "[encoded data removed]",
      "text/plain": [
       "<matplotlib.figure.Figure at 0x20aced2b3c8>"
      ]
     },
     "metadata": {},
     "output_type": "display_data"
    }
   ],
   "source": [
    "from sklearn.datasets import load_digits\n",
    "from sklearn.model_selection import learning_curve\n",
    "from sklearn.model_selection import ShuffleSplit\n",
    "\n",
    "\n",
    "def plot_learning_curve(estimator, title, X, y, ylim=None, cv=None,\n",
    "                        n_jobs=1, train_sizes=np.linspace(.1, 1.0, 5)):\n",
    "    plt.figure()\n",
    "    plt.title(title)\n",
    "    if ylim is not None:\n",
    "        plt.ylim(*ylim)\n",
    "    plt.xlabel(\"Training examples\")\n",
    "    plt.ylabel(\"Score\")\n",
    "    train_sizes, train_scores, test_scores = learning_curve(\n",
    "        estimator, X, y, cv=cv, n_jobs=n_jobs, train_sizes=train_sizes)\n",
    "    train_scores_mean = np.mean(train_scores, axis=1)\n",
    "    train_scores_std = np.std(train_scores, axis=1)\n",
    "    test_scores_mean = np.mean(test_scores, axis=1)\n",
    "    test_scores_std = np.std(test_scores, axis=1)\n",
    "    plt.grid()\n",
    "\n",
    "    plt.fill_between(train_sizes, train_scores_mean - train_scores_std,\n",
    "                     train_scores_mean + train_scores_std, alpha=0.1,\n",
    "                     color=\"r\")\n",
    "    plt.fill_between(train_sizes, test_scores_mean - test_scores_std,\n",
    "                     test_scores_mean + test_scores_std, alpha=0.1, color=\"g\")\n",
    "    plt.plot(train_sizes, train_scores_mean, 'o-', color=\"r\",\n",
    "             label=\"Training score\")\n",
    "    plt.plot(train_sizes, test_scores_mean, 'o-', color=\"g\",\n",
    "             label=\"Cross-validation score\")\n",
    "\n",
    "    plt.legend(loc=\"best\")\n",
    "    return plt\n",
    "\n",
    "plot_learning_curve(gb_clf, \"title\", X_train, y_train)\n",
    "plt.show()"
   ]
  },
  {
   "cell_type": "code",
   "execution_count": 17,
   "metadata": {
    "collapsed": true
   },
   "outputs": [
    {
     "ename": "KeyboardInterrupt",
     "evalue": "",
     "output_type": "error",
     "traceback": [
      "\u001b[1;31m---------------------------------------------------------------------------\u001b[0m",
      "\u001b[1;31mKeyboardInterrupt\u001b[0m                         Traceback (most recent call last)",
      "\u001b[1;32m<ipython-input-17-0c9f08007c83>\u001b[0m in \u001b[0;36m<module>\u001b[1;34m()\u001b[0m\n\u001b[0;32m      9\u001b[0m \u001b[0mbest_model\u001b[0m \u001b[1;33m=\u001b[0m \u001b[1;32mNone\u001b[0m\u001b[1;33m\u001b[0m\u001b[0m\n\u001b[0;32m     10\u001b[0m \u001b[1;32mfor\u001b[0m \u001b[0mepoch\u001b[0m \u001b[1;32min\u001b[0m \u001b[0mrange\u001b[0m\u001b[1;33m(\u001b[0m\u001b[1;36m50\u001b[0m\u001b[1;33m)\u001b[0m\u001b[1;33m:\u001b[0m\u001b[1;33m\u001b[0m\u001b[0m\n\u001b[1;32m---> 11\u001b[1;33m     \u001b[0mgb_clf2\u001b[0m\u001b[1;33m.\u001b[0m\u001b[0mfit\u001b[0m\u001b[1;33m(\u001b[0m\u001b[0mX_train\u001b[0m\u001b[1;33m,\u001b[0m \u001b[0my_train\u001b[0m\u001b[1;33m)\u001b[0m \u001b[1;31m# continues where it left off\u001b[0m\u001b[1;33m\u001b[0m\u001b[0m\n\u001b[0m\u001b[0;32m     12\u001b[0m     \u001b[0my_val_predict\u001b[0m \u001b[1;33m=\u001b[0m \u001b[0mgb_clf2\u001b[0m\u001b[1;33m.\u001b[0m\u001b[0mpredict\u001b[0m\u001b[1;33m(\u001b[0m\u001b[0mX_train\u001b[0m\u001b[1;33m)\u001b[0m\u001b[1;33m\u001b[0m\u001b[0m\n\u001b[0;32m     13\u001b[0m     \u001b[0mval_error\u001b[0m \u001b[1;33m=\u001b[0m \u001b[0mmean_squared_error\u001b[0m\u001b[1;33m(\u001b[0m\u001b[0my_val_predict\u001b[0m\u001b[1;33m,\u001b[0m \u001b[0my_train\u001b[0m\u001b[1;33m)\u001b[0m\u001b[1;33m\u001b[0m\u001b[0m\n",
      "\u001b[1;32mC:\\Users\\musta\\Anaconda3\\lib\\site-packages\\sklearn\\ensemble\\gradient_boosting.py\u001b[0m in \u001b[0;36mfit\u001b[1;34m(self, X, y, sample_weight, monitor)\u001b[0m\n\u001b[0;32m   1032\u001b[0m         \u001b[1;31m# fit the boosting stages\u001b[0m\u001b[1;33m\u001b[0m\u001b[1;33m\u001b[0m\u001b[0m\n\u001b[0;32m   1033\u001b[0m         n_stages = self._fit_stages(X, y, y_pred, sample_weight, random_state,\n\u001b[1;32m-> 1034\u001b[1;33m                                     begin_at_stage, monitor, X_idx_sorted)\n\u001b[0m\u001b[0;32m   1035\u001b[0m         \u001b[1;31m# change shape of arrays after fit (early-stopping or additional ests)\u001b[0m\u001b[1;33m\u001b[0m\u001b[1;33m\u001b[0m\u001b[0m\n\u001b[0;32m   1036\u001b[0m         \u001b[1;32mif\u001b[0m \u001b[0mn_stages\u001b[0m \u001b[1;33m!=\u001b[0m \u001b[0mself\u001b[0m\u001b[1;33m.\u001b[0m\u001b[0mestimators_\u001b[0m\u001b[1;33m.\u001b[0m\u001b[0mshape\u001b[0m\u001b[1;33m[\u001b[0m\u001b[1;36m0\u001b[0m\u001b[1;33m]\u001b[0m\u001b[1;33m:\u001b[0m\u001b[1;33m\u001b[0m\u001b[0m\n",
      "\u001b[1;32mC:\\Users\\musta\\Anaconda3\\lib\\site-packages\\sklearn\\ensemble\\gradient_boosting.py\u001b[0m in \u001b[0;36m_fit_stages\u001b[1;34m(self, X, y, y_pred, sample_weight, random_state, begin_at_stage, monitor, X_idx_sorted)\u001b[0m\n\u001b[0;32m   1087\u001b[0m             y_pred = self._fit_stage(i, X, y, y_pred, sample_weight,\n\u001b[0;32m   1088\u001b[0m                                      \u001b[0msample_mask\u001b[0m\u001b[1;33m,\u001b[0m \u001b[0mrandom_state\u001b[0m\u001b[1;33m,\u001b[0m \u001b[0mX_idx_sorted\u001b[0m\u001b[1;33m,\u001b[0m\u001b[1;33m\u001b[0m\u001b[0m\n\u001b[1;32m-> 1089\u001b[1;33m                                      X_csc, X_csr)\n\u001b[0m\u001b[0;32m   1090\u001b[0m \u001b[1;33m\u001b[0m\u001b[0m\n\u001b[0;32m   1091\u001b[0m             \u001b[1;31m# track deviance (= loss)\u001b[0m\u001b[1;33m\u001b[0m\u001b[1;33m\u001b[0m\u001b[0m\n",
      "\u001b[1;32mC:\\Users\\musta\\Anaconda3\\lib\\site-packages\\sklearn\\ensemble\\gradient_boosting.py\u001b[0m in \u001b[0;36m_fit_stage\u001b[1;34m(self, i, X, y, y_pred, sample_weight, sample_mask, random_state, X_idx_sorted, X_csc, X_csr)\u001b[0m\n\u001b[0;32m    760\u001b[0m \u001b[1;33m\u001b[0m\u001b[0m\n\u001b[0;32m    761\u001b[0m             residual = loss.negative_gradient(y, y_pred, k=k,\n\u001b[1;32m--> 762\u001b[1;33m                                               sample_weight=sample_weight)\n\u001b[0m\u001b[0;32m    763\u001b[0m \u001b[1;33m\u001b[0m\u001b[0m\n\u001b[0;32m    764\u001b[0m             \u001b[1;31m# induce regression tree on residuals\u001b[0m\u001b[1;33m\u001b[0m\u001b[1;33m\u001b[0m\u001b[0m\n",
      "\u001b[1;32mC:\\Users\\musta\\Anaconda3\\lib\\site-packages\\sklearn\\ensemble\\gradient_boosting.py\u001b[0m in \u001b[0;36mnegative_gradient\u001b[1;34m(self, y, pred, k, **kwargs)\u001b[0m\n\u001b[0;32m    560\u001b[0m         \u001b[1;34m\"\"\"Compute negative gradient for the ``k``-th class. \"\"\"\u001b[0m\u001b[1;33m\u001b[0m\u001b[0m\n\u001b[0;32m    561\u001b[0m         return y - np.nan_to_num(np.exp(pred[:, k] -\n\u001b[1;32m--> 562\u001b[1;33m                                         logsumexp(pred, axis=1)))\n\u001b[0m\u001b[0;32m    563\u001b[0m \u001b[1;33m\u001b[0m\u001b[0m\n\u001b[0;32m    564\u001b[0m     def _update_terminal_region(self, tree, terminal_regions, leaf, X, y,\n",
      "\u001b[1;32mC:\\Users\\musta\\Anaconda3\\lib\\site-packages\\scipy\\special\\_logsumexp.py\u001b[0m in \u001b[0;36mlogsumexp\u001b[1;34m(a, axis, b, keepdims, return_sign)\u001b[0m\n\u001b[0;32m    108\u001b[0m         \u001b[0mtmp\u001b[0m \u001b[1;33m=\u001b[0m \u001b[0mb\u001b[0m \u001b[1;33m*\u001b[0m \u001b[0mnp\u001b[0m\u001b[1;33m.\u001b[0m\u001b[0mexp\u001b[0m\u001b[1;33m(\u001b[0m\u001b[0ma\u001b[0m \u001b[1;33m-\u001b[0m \u001b[0ma_max\u001b[0m\u001b[1;33m)\u001b[0m\u001b[1;33m\u001b[0m\u001b[0m\n\u001b[0;32m    109\u001b[0m     \u001b[1;32melse\u001b[0m\u001b[1;33m:\u001b[0m\u001b[1;33m\u001b[0m\u001b[0m\n\u001b[1;32m--> 110\u001b[1;33m         \u001b[0mtmp\u001b[0m \u001b[1;33m=\u001b[0m \u001b[0mnp\u001b[0m\u001b[1;33m.\u001b[0m\u001b[0mexp\u001b[0m\u001b[1;33m(\u001b[0m\u001b[0ma\u001b[0m \u001b[1;33m-\u001b[0m \u001b[0ma_max\u001b[0m\u001b[1;33m)\u001b[0m\u001b[1;33m\u001b[0m\u001b[0m\n\u001b[0m\u001b[0;32m    111\u001b[0m \u001b[1;33m\u001b[0m\u001b[0m\n\u001b[0;32m    112\u001b[0m     \u001b[1;31m# suppress warnings about log of zero\u001b[0m\u001b[1;33m\u001b[0m\u001b[1;33m\u001b[0m\u001b[0m\n",
      "\u001b[1;31mKeyboardInterrupt\u001b[0m: "
     ]
    }
   ],
   "source": [
    "# Early stopping try (not enough computational power)\n",
    "from sklearn.base import clone\n",
    "from sklearn.metrics import mean_squared_error\n",
    "\n",
    "# Extra Trees Classifier\n",
    "gb_clf2 = GradientBoostingClassifier(n_estimators=100, learning_rate=1.0, max_depth=1, random_state=0)\n",
    "\n",
    "minimum_val_error = float(\"inf\")\n",
    "best_epoch = None\n",
    "best_model = None\n",
    "for epoch in range(50):\n",
    "    gb_clf2.fit(X_train, y_train) # continues where it left off\n",
    "    y_val_predict = gb_clf2.predict(X_train)\n",
    "    val_error = mean_squared_error(y_val_predict, y_train)\n",
    "    if val_error < minimum_val_error:\n",
    "        minimum_val_error = val_error\n",
    "        best_epoch = epoch\n",
    "        best_model = clone(et_clf)\n",
    "    \n",
    "best_model.fit(X_train, y_train)\n",
    "y_pred = best_model.predict(X_test)"
   ]
  },
  {
   "cell_type": "code",
   "execution_count": null,
   "metadata": {
    "collapsed": true
   },
   "outputs": [],
   "source": []
  }
 ],
 "metadata": {
  "kernelspec": {
   "display_name": "Python 3",
   "language": "python",
   "name": "python3"
  },
  "language_info": {
   "codemirror_mode": {
    "name": "ipython",
    "version": 3
   },
   "file_extension": ".py",
   "mimetype": "text/x-python",
   "name": "python",
   "nbconvert_exporter": "python",
   "pygments_lexer": "ipython3",
   "version": "3.6.1"
  }
 },
 "nbformat": 4,
 "nbformat_minor": 2
}
