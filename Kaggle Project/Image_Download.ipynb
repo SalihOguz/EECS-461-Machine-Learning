{
 "cells": [
  {
   "cell_type": "code",
   "execution_count": 62,
   "metadata": {
    "collapsed": true
   },
   "outputs": [],
   "source": [
    "import numpy as np\n",
    "import pandas as pd\n",
    "import matplotlib.pyplot as plt\n",
    "%matplotlib inline\n",
    "from scipy.io import wavfile\n",
    "import IPython.display as ipd\n",
    "from scipy import signal\n",
    "from subprocess import check_output\n",
    "import librosa\n",
    "import librosa.display\n",
    "#import plotly.offline as py\n",
    "#py.init_notebook_mode(connected=True)\n",
    "import plotly.graph_objs as go\n",
    "import plotly.tools as tls\n",
    "import plotly.plotly as py\n",
    "from plotly.graph_objs import *\n",
    "from  plotly.offline import offline\n",
    "import os\n",
    "#import tensorflow\n",
    "#import keras\n",
    "import gc\n",
    "py.sign_in('MustafaOguz', 'i2ERjH2t5DelFucKE5jE') "
   ]
  },
  {
   "cell_type": "code",
   "execution_count": 2,
   "metadata": {
    "collapsed": true
   },
   "outputs": [],
   "source": [
    "words = []\n",
    "counts = []\n",
    "\n",
    "for i in os.listdir(os.getcwd()+\"/train/audio\"):\n",
    "    count = 0\n",
    "    for j in os.listdir(os.getcwd()+\"/train/audio/\"+i):\n",
    "        count+=1\n",
    "    words.append(i)\n",
    "    counts.append(count)"
   ]
  },
  {
   "cell_type": "code",
   "execution_count": 3,
   "metadata": {
    "collapsed": true
   },
   "outputs": [],
   "source": [
    "# Standard version\n",
    "path = os.getcwd()+\"\\\\train\\\\audio\"\n",
    "all_file_paths = {}\n",
    "for i in words:\n",
    "    all_file_paths.setdefault(i,[])\n",
    "    for j in os.listdir(os.getcwd()+\"/train/audio/\"+i):\n",
    "        filename = j\n",
    "        all_file_paths[i].append(path  + \"\\\\\" + i + \"\\\\\" + filename)"
   ]
  },
  {
   "cell_type": "code",
   "execution_count": 4,
   "metadata": {
    "collapsed": true
   },
   "outputs": [],
   "source": [
    "def make_spectrogram(word, count):\n",
    "    example_rate, example = wavfile.read(all_file_paths[word][count])\n",
    "    freqs, times, spec = signal.spectrogram(example, fs=example_rate)\n",
    "    spectrogram = np.log(spec.T.astype(np.float32)+0.00000000001)\n",
    "\n",
    "    fig = plt.figure(figsize=(15, 10))\n",
    "    plt.axis(\"off\")\n",
    "    plt.imshow(spectrogram.T, aspect='auto', origin='lower')\n",
    "    \n",
    "    path = \"D:\\\\train_images\\\\\"+word+\"\\\\\"+ all_file_paths[word][count].split(\"\\\\\")[-1].split(\".wav\")[0]+\"__spectogram.png\"\n",
    "\n",
    "    fig.savefig(path)  \n",
    "    plt.close()"
   ]
  },
  {
   "cell_type": "code",
   "execution_count": 5,
   "metadata": {
    "collapsed": true
   },
   "outputs": [],
   "source": [
    "def make_mfc(word, count):\n",
    "    example_rate, example = wavfile.read(all_file_paths[word][count])\n",
    "    S = librosa.feature.melspectrogram(example, sr=example_rate, n_mels=128)\n",
    "    log_S = librosa.power_to_db(S, ref=np.max)\n",
    "\n",
    "    fig = plt.figure(figsize=(15, 10))\n",
    "    plt.axis(\"off\")\n",
    "    plt.imshow(log_S, aspect='auto', origin='lower')\n",
    "    \n",
    "    path = \"D:\\\\train_images\\\\\"+word+\"\\\\\"+ all_file_paths[word][count].split(\"\\\\\")[-1].split(\".wav\")[0]+\"__mfc.png\"\n",
    "   \n",
    "    fig.savefig(path)  \n",
    "    plt.close()"
   ]
  },
  {
   "cell_type": "code",
   "execution_count": 23,
   "metadata": {
    "collapsed": true
   },
   "outputs": [],
   "source": [
    "def make_waveform(word, count):\n",
    "    fig = plt.figure(figsize=(15,10))\n",
    "    plt.axis(\"off\")\n",
    "    plt.plot(wavfile.read(all_file_paths[word][count])[1])\n",
    "    fig.savefig(\"D:\\\\train_images\\\\\"+word+\"\\\\\"+ all_file_paths[word][count].split(\"\\\\\")[-1].split(\".wav\")[0]+\"__waveform.png\")  \n",
    "    plt.close()"
   ]
  },
  {
   "cell_type": "code",
   "execution_count": null,
   "metadata": {},
   "outputs": [
    {
     "name": "stdout",
     "output_type": "stream",
     "text": [
      "eight\n",
      "303.85994124412537\n",
      "five\n"
     ]
    }
   ],
   "source": [
    "# WAVEFORM IMAGE DOWNLOAD\n",
    "\"\"\"import time\n",
    "gc.collect()\n",
    "for j in words[5:]:\n",
    "    t = time.time()\n",
    "    print(j)\n",
    "    for i in range(len(all_file_paths[j])):\n",
    "        make_waveform(j, i)\n",
    "    gc.collect()\n",
    "    print(time.time() - t) #1739 sec\n",
    "    del t\"\"\"\n",
    "\n",
    "for i in range(len(all_file_paths[\"dog\"])):\n",
    "        make_waveform(\"dog\", i)"
   ]
  },
  {
   "cell_type": "code",
   "execution_count": null,
   "metadata": {
    "collapsed": true
   },
   "outputs": [],
   "source": [
    "# SPECTOGRAM IMAGE DOWNLOAD\n",
    "for j in words:\n",
    "    if count == 0:\n",
    "        count+=1\n",
    "        continue\n",
    "    for i in range(len(all_file_paths[j])):\n",
    "        make_spectrogram(j, i)"
   ]
  },
  {
   "cell_type": "code",
   "execution_count": null,
   "metadata": {
    "collapsed": true
   },
   "outputs": [],
   "source": [
    "# MFC IMAGE DOWNLOAD\n",
    "for j in words:\n",
    "    if count == 0:\n",
    "        count+=1\n",
    "        continue\n",
    "    for i in range(len(all_file_paths[j])):\n",
    "        make_mfc(j, i)"
   ]
  },
  {
   "cell_type": "code",
   "execution_count": 53,
   "metadata": {
    "collapsed": true
   },
   "outputs": [],
   "source": [
    "layout = go.Layout(\n",
    "        width = 1080,\n",
    "        height = 720,\n",
    "        xaxis=dict(\n",
    "            showgrid=False,\n",
    "            zeroline=False,\n",
    "            showline=False,\n",
    "            showticklabels=False\n",
    "        ),\n",
    "        yaxis=dict(\n",
    "            showgrid=False,\n",
    "            zeroline=False,\n",
    "            showline=False,\n",
    "            showticklabels=False\n",
    "        )\n",
    "    )"
   ]
  },
  {
   "cell_type": "code",
   "execution_count": 67,
   "metadata": {
    "collapsed": true
   },
   "outputs": [],
   "source": [
    "def make_waveform1(word, count):\n",
    "    trace1 = {\n",
    "      \"y\": wavfile.read(all_file_paths[word][count])[1],\n",
    "      \"x\": list(range(16000)),\n",
    "      \"type\": \"scatter\", \n",
    "    }\n",
    "    \n",
    "    data = Data([trace1])\n",
    "    fig = Figure(data=data, layout=layout)\n",
    "    py.image.save_as(fig, filename=\"D:\\\\train_images\\\\\"+word+\"\\\\\"+ all_file_paths[word][count].split(\"\\\\\")[-1].split(\".wav\")[0]+\"__waveform.png\")"
   ]
  },
  {
   "cell_type": "code",
   "execution_count": 70,
   "metadata": {},
   "outputs": [
    {
     "data": {
      "text/plain": [
       "'file://D:\\\\train_images\\\\zero\\\\004ae714_nohash_0__waveform.html'"
      ]
     },
     "execution_count": 70,
     "metadata": {},
     "output_type": "execute_result"
    }
   ],
   "source": [
    "trace1 = {\n",
    "      \"y\": wavfile.read(all_file_paths[\"zero\"][0])[1],\n",
    "      \"x\": list(range(16000)),\n",
    "      \"type\": \"scatter\", \n",
    "    }\n",
    "    \n",
    "data = Data([trace1])\n",
    "\n",
    "offline.plot({'data': data, 'layout': layout}, image='png', filename=\"D:\\\\train_images\\\\\"+\"zero\"+\"\\\\\"+ all_file_paths[\"zero\"][0].split(\"\\\\\")[-1].split(\".wav\")[0]+\"__waveform.html\", image_width=1080, image_height=720)"
   ]
  },
  {
   "cell_type": "code",
   "execution_count": 59,
   "metadata": {},
   "outputs": [
    {
     "ename": "PlotlyRequestError",
     "evalue": "Hi there, you've reached the threshold of 100 combined image exports and chart saves per day. If you need to raise your daily limit, consider upgrading to a Student or Personal Plan (see: https://plot.ly/products/cloud).",
     "output_type": "error",
     "traceback": [
      "\u001b[1;31m---------------------------------------------------------------------------\u001b[0m",
      "\u001b[1;31mPlotlyRequestError\u001b[0m                        Traceback (most recent call last)",
      "\u001b[1;32m<ipython-input-59-99c3a1fa7da3>\u001b[0m in \u001b[0;36m<module>\u001b[1;34m()\u001b[0m\n\u001b[0;32m      2\u001b[0m \u001b[0mt\u001b[0m \u001b[1;33m=\u001b[0m \u001b[0mtime\u001b[0m\u001b[1;33m.\u001b[0m\u001b[0mtime\u001b[0m\u001b[1;33m(\u001b[0m\u001b[1;33m)\u001b[0m\u001b[1;33m\u001b[0m\u001b[0m\n\u001b[0;32m      3\u001b[0m \u001b[1;32mfor\u001b[0m \u001b[0mi\u001b[0m \u001b[1;32min\u001b[0m \u001b[0mrange\u001b[0m\u001b[1;33m(\u001b[0m\u001b[1;36m25\u001b[0m\u001b[1;33m,\u001b[0m\u001b[0mlen\u001b[0m\u001b[1;33m(\u001b[0m\u001b[0mall_file_paths\u001b[0m\u001b[1;33m[\u001b[0m\u001b[1;34m\"zero\"\u001b[0m\u001b[1;33m]\u001b[0m\u001b[1;33m)\u001b[0m\u001b[1;33m)\u001b[0m\u001b[1;33m:\u001b[0m\u001b[1;33m\u001b[0m\u001b[0m\n\u001b[1;32m----> 4\u001b[1;33m         \u001b[0mmake_waveform1\u001b[0m\u001b[1;33m(\u001b[0m\u001b[1;34m\"zero\"\u001b[0m\u001b[1;33m,\u001b[0m \u001b[0mi\u001b[0m\u001b[1;33m)\u001b[0m\u001b[1;33m\u001b[0m\u001b[0m\n\u001b[0m\u001b[0;32m      5\u001b[0m \u001b[0mprint\u001b[0m\u001b[1;33m(\u001b[0m\u001b[0mtime\u001b[0m\u001b[1;33m.\u001b[0m\u001b[0mtime\u001b[0m\u001b[1;33m(\u001b[0m\u001b[1;33m)\u001b[0m \u001b[1;33m-\u001b[0m \u001b[0mt\u001b[0m\u001b[1;33m)\u001b[0m\u001b[1;33m\u001b[0m\u001b[0m\n\u001b[0;32m      6\u001b[0m \u001b[0mgc\u001b[0m\u001b[1;33m.\u001b[0m\u001b[0mcollect\u001b[0m\u001b[1;33m(\u001b[0m\u001b[1;33m)\u001b[0m\u001b[1;33m\u001b[0m\u001b[0m\n",
      "\u001b[1;32m<ipython-input-58-7c1f204738b5>\u001b[0m in \u001b[0;36mmake_waveform1\u001b[1;34m(word, count)\u001b[0m\n\u001b[0;32m      8\u001b[0m     \u001b[0mdata\u001b[0m \u001b[1;33m=\u001b[0m \u001b[0mData\u001b[0m\u001b[1;33m(\u001b[0m\u001b[1;33m[\u001b[0m\u001b[0mtrace1\u001b[0m\u001b[1;33m]\u001b[0m\u001b[1;33m)\u001b[0m\u001b[1;33m\u001b[0m\u001b[0m\n\u001b[0;32m      9\u001b[0m     \u001b[0mfig\u001b[0m \u001b[1;33m=\u001b[0m \u001b[0mFigure\u001b[0m\u001b[1;33m(\u001b[0m\u001b[0mdata\u001b[0m\u001b[1;33m=\u001b[0m\u001b[0mdata\u001b[0m\u001b[1;33m,\u001b[0m \u001b[0mlayout\u001b[0m\u001b[1;33m=\u001b[0m\u001b[0mlayout\u001b[0m\u001b[1;33m)\u001b[0m\u001b[1;33m\u001b[0m\u001b[0m\n\u001b[1;32m---> 10\u001b[1;33m     \u001b[0mpy\u001b[0m\u001b[1;33m.\u001b[0m\u001b[0mimage\u001b[0m\u001b[1;33m.\u001b[0m\u001b[0msave_as\u001b[0m\u001b[1;33m(\u001b[0m\u001b[0mfig\u001b[0m\u001b[1;33m,\u001b[0m \u001b[0mfilename\u001b[0m\u001b[1;33m=\u001b[0m\u001b[1;34m\"D:\\\\train_images\\\\\"\u001b[0m\u001b[1;33m+\u001b[0m\u001b[0mword\u001b[0m\u001b[1;33m+\u001b[0m\u001b[1;34m\"\\\\\"\u001b[0m\u001b[1;33m+\u001b[0m \u001b[0mall_file_paths\u001b[0m\u001b[1;33m[\u001b[0m\u001b[0mword\u001b[0m\u001b[1;33m]\u001b[0m\u001b[1;33m[\u001b[0m\u001b[0mcount\u001b[0m\u001b[1;33m]\u001b[0m\u001b[1;33m.\u001b[0m\u001b[0msplit\u001b[0m\u001b[1;33m(\u001b[0m\u001b[1;34m\"\\\\\"\u001b[0m\u001b[1;33m)\u001b[0m\u001b[1;33m[\u001b[0m\u001b[1;33m-\u001b[0m\u001b[1;36m1\u001b[0m\u001b[1;33m]\u001b[0m\u001b[1;33m.\u001b[0m\u001b[0msplit\u001b[0m\u001b[1;33m(\u001b[0m\u001b[1;34m\".wav\"\u001b[0m\u001b[1;33m)\u001b[0m\u001b[1;33m[\u001b[0m\u001b[1;36m0\u001b[0m\u001b[1;33m]\u001b[0m\u001b[1;33m+\u001b[0m\u001b[1;34m\"__waveform.png\"\u001b[0m\u001b[1;33m)\u001b[0m\u001b[1;33m\u001b[0m\u001b[0m\n\u001b[0m",
      "\u001b[1;32mC:\\Users\\musta\\Anaconda3\\lib\\site-packages\\plotly\\plotly\\plotly.py\u001b[0m in \u001b[0;36msave_as\u001b[1;34m(cls, figure_or_data, filename, format, width, height, scale)\u001b[0m\n\u001b[0;32m    835\u001b[0m             \u001b[0mfilename\u001b[0m \u001b[1;33m+=\u001b[0m \u001b[1;34m'.'\u001b[0m \u001b[1;33m+\u001b[0m \u001b[0mformat\u001b[0m\u001b[1;33m\u001b[0m\u001b[0m\n\u001b[0;32m    836\u001b[0m \u001b[1;33m\u001b[0m\u001b[0m\n\u001b[1;32m--> 837\u001b[1;33m         \u001b[0mimg\u001b[0m \u001b[1;33m=\u001b[0m \u001b[0mcls\u001b[0m\u001b[1;33m.\u001b[0m\u001b[0mget\u001b[0m\u001b[1;33m(\u001b[0m\u001b[0mfigure_or_data\u001b[0m\u001b[1;33m,\u001b[0m \u001b[0mformat\u001b[0m\u001b[1;33m,\u001b[0m \u001b[0mwidth\u001b[0m\u001b[1;33m,\u001b[0m \u001b[0mheight\u001b[0m\u001b[1;33m,\u001b[0m \u001b[0mscale\u001b[0m\u001b[1;33m)\u001b[0m\u001b[1;33m\u001b[0m\u001b[0m\n\u001b[0m\u001b[0;32m    838\u001b[0m \u001b[1;33m\u001b[0m\u001b[0m\n\u001b[0;32m    839\u001b[0m         \u001b[0mf\u001b[0m \u001b[1;33m=\u001b[0m \u001b[0mopen\u001b[0m\u001b[1;33m(\u001b[0m\u001b[0mfilename\u001b[0m\u001b[1;33m,\u001b[0m \u001b[1;34m'wb'\u001b[0m\u001b[1;33m)\u001b[0m\u001b[1;33m\u001b[0m\u001b[0m\n",
      "\u001b[1;32mC:\\Users\\musta\\Anaconda3\\lib\\site-packages\\plotly\\plotly\\plotly.py\u001b[0m in \u001b[0;36mget\u001b[1;34m(figure_or_data, format, width, height, scale)\u001b[0m\n\u001b[0;32m    748\u001b[0m             \u001b[0mpayload\u001b[0m\u001b[1;33m[\u001b[0m\u001b[1;34m'scale'\u001b[0m\u001b[1;33m]\u001b[0m \u001b[1;33m=\u001b[0m \u001b[0mscale\u001b[0m\u001b[1;33m\u001b[0m\u001b[0m\n\u001b[0;32m    749\u001b[0m \u001b[1;33m\u001b[0m\u001b[0m\n\u001b[1;32m--> 750\u001b[1;33m         \u001b[0mresponse\u001b[0m \u001b[1;33m=\u001b[0m \u001b[0mv2\u001b[0m\u001b[1;33m.\u001b[0m\u001b[0mimages\u001b[0m\u001b[1;33m.\u001b[0m\u001b[0mcreate\u001b[0m\u001b[1;33m(\u001b[0m\u001b[0mpayload\u001b[0m\u001b[1;33m)\u001b[0m\u001b[1;33m\u001b[0m\u001b[0m\n\u001b[0m\u001b[0;32m    751\u001b[0m \u001b[1;33m\u001b[0m\u001b[0m\n\u001b[0;32m    752\u001b[0m         \u001b[0mheaders\u001b[0m \u001b[1;33m=\u001b[0m \u001b[0mresponse\u001b[0m\u001b[1;33m.\u001b[0m\u001b[0mheaders\u001b[0m\u001b[1;33m\u001b[0m\u001b[0m\n",
      "\u001b[1;32mC:\\Users\\musta\\Anaconda3\\lib\\site-packages\\plotly\\api\\v2\\images.py\u001b[0m in \u001b[0;36mcreate\u001b[1;34m(body)\u001b[0m\n\u001b[0;32m     16\u001b[0m     \"\"\"\n\u001b[0;32m     17\u001b[0m     \u001b[0murl\u001b[0m \u001b[1;33m=\u001b[0m \u001b[0mbuild_url\u001b[0m\u001b[1;33m(\u001b[0m\u001b[0mRESOURCE\u001b[0m\u001b[1;33m)\u001b[0m\u001b[1;33m\u001b[0m\u001b[0m\n\u001b[1;32m---> 18\u001b[1;33m     \u001b[1;32mreturn\u001b[0m \u001b[0mrequest\u001b[0m\u001b[1;33m(\u001b[0m\u001b[1;34m'post'\u001b[0m\u001b[1;33m,\u001b[0m \u001b[0murl\u001b[0m\u001b[1;33m,\u001b[0m \u001b[0mjson\u001b[0m\u001b[1;33m=\u001b[0m\u001b[0mbody\u001b[0m\u001b[1;33m)\u001b[0m\u001b[1;33m\u001b[0m\u001b[0m\n\u001b[0m",
      "\u001b[1;32mC:\\Users\\musta\\Anaconda3\\lib\\site-packages\\plotly\\api\\v2\\utils.py\u001b[0m in \u001b[0;36mrequest\u001b[1;34m(method, url, **kwargs)\u001b[0m\n\u001b[0;32m    151\u001b[0m         \u001b[0mcontent\u001b[0m \u001b[1;33m=\u001b[0m \u001b[0mresponse\u001b[0m\u001b[1;33m.\u001b[0m\u001b[0mcontent\u001b[0m \u001b[1;32mif\u001b[0m \u001b[0mresponse\u001b[0m \u001b[1;32melse\u001b[0m \u001b[1;34m'No content'\u001b[0m\u001b[1;33m\u001b[0m\u001b[0m\n\u001b[0;32m    152\u001b[0m         \u001b[1;32mraise\u001b[0m \u001b[0mexceptions\u001b[0m\u001b[1;33m.\u001b[0m\u001b[0mPlotlyRequestError\u001b[0m\u001b[1;33m(\u001b[0m\u001b[0mmessage\u001b[0m\u001b[1;33m,\u001b[0m \u001b[0mstatus_code\u001b[0m\u001b[1;33m,\u001b[0m \u001b[0mcontent\u001b[0m\u001b[1;33m)\u001b[0m\u001b[1;33m\u001b[0m\u001b[0m\n\u001b[1;32m--> 153\u001b[1;33m     \u001b[0mvalidate_response\u001b[0m\u001b[1;33m(\u001b[0m\u001b[0mresponse\u001b[0m\u001b[1;33m)\u001b[0m\u001b[1;33m\u001b[0m\u001b[0m\n\u001b[0m\u001b[0;32m    154\u001b[0m     \u001b[1;32mreturn\u001b[0m \u001b[0mresponse\u001b[0m\u001b[1;33m\u001b[0m\u001b[0m\n",
      "\u001b[1;32mC:\\Users\\musta\\Anaconda3\\lib\\site-packages\\plotly\\api\\v2\\utils.py\u001b[0m in \u001b[0;36mvalidate_response\u001b[1;34m(response)\u001b[0m\n\u001b[0;32m     77\u001b[0m         \u001b[0mmessage\u001b[0m \u001b[1;33m=\u001b[0m \u001b[0mcontent\u001b[0m \u001b[1;32mif\u001b[0m \u001b[0mcontent\u001b[0m \u001b[1;32melse\u001b[0m \u001b[1;34m'No Content'\u001b[0m\u001b[1;33m\u001b[0m\u001b[0m\n\u001b[0;32m     78\u001b[0m \u001b[1;33m\u001b[0m\u001b[0m\n\u001b[1;32m---> 79\u001b[1;33m     \u001b[1;32mraise\u001b[0m \u001b[0mexceptions\u001b[0m\u001b[1;33m.\u001b[0m\u001b[0mPlotlyRequestError\u001b[0m\u001b[1;33m(\u001b[0m\u001b[0mmessage\u001b[0m\u001b[1;33m,\u001b[0m \u001b[0mstatus_code\u001b[0m\u001b[1;33m,\u001b[0m \u001b[0mcontent\u001b[0m\u001b[1;33m)\u001b[0m\u001b[1;33m\u001b[0m\u001b[0m\n\u001b[0m\u001b[0;32m     80\u001b[0m \u001b[1;33m\u001b[0m\u001b[0m\n\u001b[0;32m     81\u001b[0m \u001b[1;33m\u001b[0m\u001b[0m\n",
      "\u001b[1;31mPlotlyRequestError\u001b[0m: Hi there, you've reached the threshold of 100 combined image exports and chart saves per day. If you need to raise your daily limit, consider upgrading to a Student or Personal Plan (see: https://plot.ly/products/cloud)."
     ]
    }
   ],
   "source": [
    "import time\n",
    "t = time.time()\n",
    "for i in range(25,len(all_file_paths[\"zero\"])):\n",
    "        make_waveform1(\"zero\", i)\n",
    "print(time.time() - t)\n",
    "gc.collect()"
   ]
  },
  {
   "cell_type": "code",
   "execution_count": null,
   "metadata": {
    "collapsed": true
   },
   "outputs": [],
   "source": []
  },
  {
   "cell_type": "code",
   "execution_count": null,
   "metadata": {},
   "outputs": [
    {
     "name": "stdout",
     "output_type": "stream",
     "text": [
      "off\n",
      "on\n"
     ]
    }
   ],
   "source": [
    "for j in words:\n",
    "    print(j)\n",
    "    for i in iter(range(len(all_file_paths[j]))):\n",
    "        make_waveform1(j, i)"
   ]
  }
 ],
 "metadata": {
  "kernelspec": {
   "display_name": "Python 3",
   "language": "python",
   "name": "python3"
  },
  "language_info": {
   "codemirror_mode": {
    "name": "ipython",
    "version": 3
   },
   "file_extension": ".py",
   "mimetype": "text/x-python",
   "name": "python",
   "nbconvert_exporter": "python",
   "pygments_lexer": "ipython3",
   "version": "3.6.1"
  }
 },
 "nbformat": 4,
 "nbformat_minor": 2
}
